{
  "nbformat": 4,
  "nbformat_minor": 0,
  "metadata": {
    "colab": {
      "provenance": [],
      "authorship_tag": "ABX9TyO+WeBskC/YBgjqIG+YYIZ9",
      "include_colab_link": true
    },
    "kernelspec": {
      "name": "python3",
      "display_name": "Python 3"
    },
    "language_info": {
      "name": "python"
    }
  },
  "cells": [
    {
      "cell_type": "markdown",
      "metadata": {
        "id": "view-in-github",
        "colab_type": "text"
      },
      "source": [
        "<a href=\"https://colab.research.google.com/github/hitanshu5/WebScrapping/blob/main/Scraping_DJSCE_website.ipynb\" target=\"_parent\"><img src=\"https://colab.research.google.com/assets/colab-badge.svg\" alt=\"Open In Colab\"/></a>"
      ]
    },
    {
      "cell_type": "code",
      "source": [
        "!pip install requests==2.31.0 --upgrade --quiet"
      ],
      "metadata": {
        "id": "NQqaDsNKWpfd"
      },
      "execution_count": null,
      "outputs": []
    },
    {
      "cell_type": "code",
      "source": [
        "import requests"
      ],
      "metadata": {
        "id": "Dxg6ZzlYWxTI"
      },
      "execution_count": null,
      "outputs": []
    },
    {
      "cell_type": "code",
      "source": [
        "url = 'https://www.djsce.ac.in'"
      ],
      "metadata": {
        "id": "lh7YHO6vW5ju"
      },
      "execution_count": null,
      "outputs": []
    },
    {
      "cell_type": "code",
      "source": [
        "response = requests.get(url)"
      ],
      "metadata": {
        "id": "Xm9UYTJRYLAt"
      },
      "execution_count": null,
      "outputs": []
    },
    {
      "cell_type": "code",
      "source": [
        "print(response)"
      ],
      "metadata": {
        "colab": {
          "base_uri": "https://localhost:8080/"
        },
        "id": "uFAoVEDMYfFJ",
        "outputId": "5ea0d0d9-39a7-48b0-b6e9-7c757be1c26f"
      },
      "execution_count": null,
      "outputs": [
        {
          "output_type": "stream",
          "name": "stdout",
          "text": [
            "<Response [200]>\n"
          ]
        }
      ]
    },
    {
      "cell_type": "code",
      "source": [
        "len(response.text)"
      ],
      "metadata": {
        "colab": {
          "base_uri": "https://localhost:8080/"
        },
        "id": "rBLHQ7BGYoUX",
        "outputId": "e55d57cf-13c7-4302-c490-b800386380d3"
      },
      "execution_count": null,
      "outputs": [
        {
          "output_type": "execute_result",
          "data": {
            "text/plain": [
              "121686"
            ]
          },
          "metadata": {},
          "execution_count": 6
        }
      ]
    },
    {
      "cell_type": "code",
      "source": [
        "page_content = response.text"
      ],
      "metadata": {
        "id": "mU4m5XcXaqOR"
      },
      "execution_count": null,
      "outputs": []
    },
    {
      "cell_type": "code",
      "source": [
        "page_content[:1000]"
      ],
      "metadata": {
        "colab": {
          "base_uri": "https://localhost:8080/",
          "height": 123
        },
        "id": "G0-WUWDmazC_",
        "outputId": "ce6f080d-57c5-46c6-fb5d-1acf0f9ec522"
      },
      "execution_count": null,
      "outputs": [
        {
          "output_type": "execute_result",
          "data": {
            "text/plain": [
              "'\\r\\n<!DOCTYPE html>\\r\\n<html lang=\"en\">\\r\\n  <head>\\r\\n\\t<meta http-equiv=\"Content-Type\" content=\"text/html; charset=ISO-8859-1\" />\\r\\n    <meta http-equiv=\"X-UA-Compatible\" content=\"IE=edge\">\\r\\n    <meta name=\"viewport\" content=\"width=device-width, initial-scale=1\">\\r\\n\\t<meta http-equiv=\"expires\" content=\"0\" />\\r\\n\\t\\r\\n\\t\\r\\n<title>Dwarkadas J. Sanghvi College of Engineering</title>\\n<meta name=\"keywords\" content=\"\">\\n<meta name=\"description\" content=\"\">\\n\\t\\r\\n\\r\\n\\r\\n    <link rel=\"icon\" type=\"text/css\" href=\"https://www.djsce.ac.in/images/fav_icon.ico\">\\r\\n\\t\\r\\n\\t<!-- jQuery (necessary for Bootstrap\\'s JavaScript plugins) -->\\r\\n\\t<script src=\"https://www.djsce.ac.in/js/jquery-3.3.1.min.js\"></script>\\r\\n\\t\\r\\n\\t\\r\\n\\t\\r\\n\\t<link rel=\"preconnect\" href=\"https://fonts.googleapis.com\">\\r\\n\\t<link rel=\"preconnect\" href=\"https://fonts.gstatic.com\" crossorigin>\\r\\n\\t<link href=\"https://fonts.googleapis.com/css2?family=Nunito+Sans:wght@300;400;600;700;800&display=swap\" rel=\"stylesheet\">\\t\\r\\n\\t<link href=\"https://fonts.googleapis.com/css2?family=Marc'"
            ],
            "application/vnd.google.colaboratory.intrinsic+json": {
              "type": "string"
            }
          },
          "metadata": {},
          "execution_count": 8
        }
      ]
    },
    {
      "cell_type": "code",
      "source": [
        "with open('djsce.html', 'w') as f:\n",
        "  f.write(page_content)"
      ],
      "metadata": {
        "id": "BhpN4ntxa2w1"
      },
      "execution_count": null,
      "outputs": []
    },
    {
      "cell_type": "code",
      "source": [
        "!pip install beautifulsoup4 --upgrade --quiet"
      ],
      "metadata": {
        "id": "kU0j60qHqtDB"
      },
      "execution_count": null,
      "outputs": []
    },
    {
      "cell_type": "code",
      "source": [
        "from bs4 import BeautifulSoup"
      ],
      "metadata": {
        "id": "KiGnRqhHrvPu"
      },
      "execution_count": null,
      "outputs": []
    },
    {
      "cell_type": "code",
      "source": [
        "doc = BeautifulSoup(page_content, 'html.parser')"
      ],
      "metadata": {
        "id": "hAX3C8Sdrm0X"
      },
      "execution_count": null,
      "outputs": []
    },
    {
      "cell_type": "code",
      "source": [
        "type(doc)"
      ],
      "metadata": {
        "colab": {
          "base_uri": "https://localhost:8080/",
          "height": 186
        },
        "id": "Xq1Ekvo-rrID",
        "outputId": "14715352-3aac-413b-e0fe-ab98c2071842"
      },
      "execution_count": null,
      "outputs": [
        {
          "output_type": "execute_result",
          "data": {
            "text/plain": [
              "bs4.BeautifulSoup"
            ],
            "text/html": [
              "<div style=\"max-width:800px; border: 1px solid var(--colab-border-color);\"><style>\n",
              "      pre.function-repr-contents {\n",
              "        overflow-x: auto;\n",
              "        padding: 8px 12px;\n",
              "        max-height: 500px;\n",
              "      }\n",
              "\n",
              "      pre.function-repr-contents.function-repr-contents-collapsed {\n",
              "        cursor: pointer;\n",
              "        max-height: 100px;\n",
              "      }\n",
              "    </style>\n",
              "    <pre style=\"white-space: initial; background:\n",
              "         var(--colab-secondary-surface-color); padding: 8px 12px;\n",
              "         border-bottom: 1px solid var(--colab-border-color);\"><b>bs4.BeautifulSoup</b><br/>def __call__(*args, **kwargs)</pre><pre class=\"function-repr-contents function-repr-contents-collapsed\" style=\"\"><a class=\"filepath\" style=\"display:none\" href=\"#\">/usr/local/lib/python3.10/dist-packages/bs4/__init__.py</a>A data structure representing a parsed HTML or XML document.\n",
              "\n",
              "Most of the methods you&#x27;ll call on a BeautifulSoup object are inherited from\n",
              "PageElement or Tag.\n",
              "\n",
              "Internally, this class defines the basic interface called by the\n",
              "tree builders when converting an HTML/XML document into a data\n",
              "structure. The interface abstracts away the differences between\n",
              "parsers. To write a new tree builder, you&#x27;ll need to understand\n",
              "these methods as a whole.\n",
              "\n",
              "These methods will be called by the BeautifulSoup constructor:\n",
              "  * reset()\n",
              "  * feed(markup)\n",
              "\n",
              "The tree builder may call these methods from its feed() implementation:\n",
              "  * handle_starttag(name, attrs) # See note about return value\n",
              "  * handle_endtag(name)\n",
              "  * handle_data(data) # Appends to the current data node\n",
              "  * endData(containerClass) # Ends the current data node\n",
              "\n",
              "No matter how complicated the underlying parser is, you should be\n",
              "able to build a tree using &#x27;start tag&#x27; events, &#x27;end tag&#x27; events,\n",
              "&#x27;data&#x27; events, and &quot;done with data&quot; events.\n",
              "\n",
              "If you encounter an empty-element tag (aka a self-closing tag,\n",
              "like HTML&#x27;s &lt;br&gt; tag), call handle_starttag and then\n",
              "handle_endtag.</pre>\n",
              "      <script>\n",
              "      if (google.colab.kernel.accessAllowed && google.colab.files && google.colab.files.view) {\n",
              "        for (const element of document.querySelectorAll('.filepath')) {\n",
              "          element.style.display = 'block'\n",
              "          element.onclick = (event) => {\n",
              "            event.preventDefault();\n",
              "            event.stopPropagation();\n",
              "            google.colab.files.view(element.textContent, 76);\n",
              "          };\n",
              "        }\n",
              "      }\n",
              "      for (const element of document.querySelectorAll('.function-repr-contents')) {\n",
              "        element.onclick = (event) => {\n",
              "          event.preventDefault();\n",
              "          event.stopPropagation();\n",
              "          element.classList.toggle('function-repr-contents-collapsed');\n",
              "        };\n",
              "      }\n",
              "      </script>\n",
              "      </div>"
            ]
          },
          "metadata": {},
          "execution_count": 27
        }
      ]
    },
    {
      "cell_type": "code",
      "source": [
        "image_class = 'img-fluid shadow'\n",
        "image_tag = doc.find_all('img', {'class': image_class})"
      ],
      "metadata": {
        "id": "g7XdDn2frzgG"
      },
      "execution_count": null,
      "outputs": []
    },
    {
      "cell_type": "code",
      "source": [
        "image_tag[0]['src']"
      ],
      "metadata": {
        "id": "MyQJguc7q5yI",
        "outputId": "ffe5f98b-e2ed-4cab-ac98-322ca99a707e",
        "colab": {
          "base_uri": "https://localhost:8080/",
          "height": 36
        }
      },
      "execution_count": null,
      "outputs": [
        {
          "output_type": "execute_result",
          "data": {
            "text/plain": [
              "'https://www.djsce.ac.in/images/recruiters/demag_logo.jpg'"
            ],
            "application/vnd.google.colaboratory.intrinsic+json": {
              "type": "string"
            }
          },
          "metadata": {},
          "execution_count": 29
        }
      ]
    },
    {
      "cell_type": "code",
      "source": [
        "print(image_tag)"
      ],
      "metadata": {
        "colab": {
          "base_uri": "https://localhost:8080/"
        },
        "id": "bJwzujHpqNFY",
        "outputId": "2c5f82dc-b15a-4099-ce4c-90c8bbc4b28f"
      },
      "execution_count": null,
      "outputs": [
        {
          "output_type": "stream",
          "name": "stdout",
          "text": [
            "[<img class=\"img-fluid shadow\" src=\"https://www.djsce.ac.in/images/recruiters/demag_logo.jpg\"/>, <img class=\"img-fluid shadow\" src=\"https://www.djsce.ac.in/images/recruiters/deloitte_logo.jpg\"/>, <img class=\"img-fluid shadow\" src=\"https://www.djsce.ac.in/images/recruiters/tcs_logo.jpg\"/>, <img class=\"img-fluid shadow\" src=\"https://www.djsce.ac.in/images/recruiters/sokrati_logo.jpg\"/>, <img class=\"img-fluid shadow\" src=\"https://www.djsce.ac.in/images/recruiters/Burns.jpg\"/>, <img class=\"img-fluid shadow\" src=\"https://www.djsce.ac.in/images/recruiters/accolite_logo.jpg\"/>, <img class=\"img-fluid shadow\" src=\"https://www.djsce.ac.in/images/recruiters/tibco_logo.jpg\"/>, <img class=\"img-fluid shadow\" src=\"https://www.djsce.ac.in/images/recruiters/forcepoint_logo.jpg\"/>, <img class=\"img-fluid shadow\" src=\"https://www.djsce.ac.in/images/recruiters/tresvista_logo.jpg\"/>, <img class=\"img-fluid shadow\" src=\"https://www.djsce.ac.in/images/recruiters/technip_logo.jpg\"/>, <img class=\"img-fluid shadow\" src=\"https://www.djsce.ac.in/images/recruiters/infosys_logo.jpg\"/>, <img class=\"img-fluid shadow\" src=\"https://www.djsce.ac.in/images/recruiters/technimonticb_logo.jpg\"/>, <img class=\"img-fluid shadow\" src=\"https://www.djsce.ac.in/images/recruiters/iss_logo.jpg\"/>, <img class=\"img-fluid shadow\" src=\"https://www.djsce.ac.in/images/recruiters/BNP.jpg\"/>, <img class=\"img-fluid shadow\" src=\"https://www.djsce.ac.in/images/recruiters/philips_logo.jpg\"/>, <img class=\"img-fluid shadow\" src=\"https://www.djsce.ac.in/images/colleges/texasanm_logo.jpg\"/>, <img class=\"img-fluid shadow\" src=\"https://www.djsce.ac.in/images/colleges/upenn_logo.jpg\"/>, <img class=\"img-fluid shadow\" src=\"https://www.djsce.ac.in/images/colleges/virginiatech_logo.jpg\"/>, <img class=\"img-fluid shadow\" src=\"https://www.djsce.ac.in/images/colleges/carnegie_logo.jpg\"/>, <img class=\"img-fluid shadow\" src=\"https://www.djsce.ac.in/images/colleges/IITBombay.png\"/>, <img class=\"img-fluid shadow\" src=\"https://www.djsce.ac.in/images/colleges/cornell_logo.jpg\"/>, <img class=\"img-fluid shadow\" src=\"https://www.djsce.ac.in/images/colleges/heidelberg_logo.jpg\"/>, <img class=\"img-fluid shadow\" src=\"https://www.djsce.ac.in/images/colleges/michigan_logo.jpg\"/>, <img class=\"img-fluid shadow\" src=\"https://www.djsce.ac.in/images/colleges/columbia_logo.jpg\"/>, <img class=\"img-fluid shadow\" src=\"https://www.djsce.ac.in/images/colleges/johnshopkins_logo.jpg\"/>, <img class=\"img-fluid shadow\" src=\"https://www.djsce.ac.in/images/colleges/nsu_logo.jpg\"/>, <img class=\"img-fluid shadow\" src=\"https://www.djsce.ac.in/images/colleges/northeastern_logo.jpg\"/>, <img class=\"img-fluid shadow\" src=\"https://www.djsce.ac.in/images/colleges/purdue_logo.jpg\"/>, <img class=\"img-fluid shadow\" src=\"https://www.djsce.ac.in/images/colleges/illinois_logo.jpg\"/>, <img class=\"img-fluid shadow\" src=\"https://www.djsce.ac.in/images/colleges/texas_university_logo.jpg\"/>]\n"
          ]
        }
      ]
    },
    {
      "cell_type": "code",
      "source": [
        "import urllib.request\n",
        "\n",
        "i = 1\n",
        "for img in image_tag:\n",
        "    # Print the image source URL\n",
        "    print(img['src'])\n",
        "\n",
        "    # Extract the filename from the image URL or use a counter\n",
        "    filename = str(i) + '.jpg'  # Or any other suitable extension\n",
        "    i += 1\n",
        "\n",
        "    # Open the file in binary write mode and write the image content\n",
        "    with open(filename, 'wb') as img_file:\n",
        "        img_file.write(urllib.request.urlopen(img['src']).read())"
      ],
      "metadata": {
        "colab": {
          "base_uri": "https://localhost:8080/"
        },
        "id": "skzYrX7XdDTI",
        "outputId": "f8e77a34-a397-447a-ec29-39b4e9caebb4"
      },
      "execution_count": null,
      "outputs": [
        {
          "output_type": "stream",
          "name": "stdout",
          "text": [
            "https://www.djsce.ac.in/images/recruiters/demag_logo.jpg\n",
            "https://www.djsce.ac.in/images/recruiters/deloitte_logo.jpg\n",
            "https://www.djsce.ac.in/images/recruiters/tcs_logo.jpg\n",
            "https://www.djsce.ac.in/images/recruiters/sokrati_logo.jpg\n",
            "https://www.djsce.ac.in/images/recruiters/Burns.jpg\n",
            "https://www.djsce.ac.in/images/recruiters/accolite_logo.jpg\n",
            "https://www.djsce.ac.in/images/recruiters/tibco_logo.jpg\n",
            "https://www.djsce.ac.in/images/recruiters/forcepoint_logo.jpg\n",
            "https://www.djsce.ac.in/images/recruiters/tresvista_logo.jpg\n",
            "https://www.djsce.ac.in/images/recruiters/technip_logo.jpg\n",
            "https://www.djsce.ac.in/images/recruiters/infosys_logo.jpg\n",
            "https://www.djsce.ac.in/images/recruiters/technimonticb_logo.jpg\n",
            "https://www.djsce.ac.in/images/recruiters/iss_logo.jpg\n",
            "https://www.djsce.ac.in/images/recruiters/BNP.jpg\n",
            "https://www.djsce.ac.in/images/recruiters/philips_logo.jpg\n",
            "https://www.djsce.ac.in/images/colleges/texasanm_logo.jpg\n",
            "https://www.djsce.ac.in/images/colleges/upenn_logo.jpg\n",
            "https://www.djsce.ac.in/images/colleges/virginiatech_logo.jpg\n",
            "https://www.djsce.ac.in/images/colleges/carnegie_logo.jpg\n",
            "https://www.djsce.ac.in/images/colleges/IITBombay.png\n",
            "https://www.djsce.ac.in/images/colleges/cornell_logo.jpg\n",
            "https://www.djsce.ac.in/images/colleges/heidelberg_logo.jpg\n",
            "https://www.djsce.ac.in/images/colleges/michigan_logo.jpg\n",
            "https://www.djsce.ac.in/images/colleges/columbia_logo.jpg\n",
            "https://www.djsce.ac.in/images/colleges/johnshopkins_logo.jpg\n",
            "https://www.djsce.ac.in/images/colleges/nsu_logo.jpg\n",
            "https://www.djsce.ac.in/images/colleges/northeastern_logo.jpg\n",
            "https://www.djsce.ac.in/images/colleges/purdue_logo.jpg\n",
            "https://www.djsce.ac.in/images/colleges/illinois_logo.jpg\n",
            "https://www.djsce.ac.in/images/colleges/texas_university_logo.jpg\n"
          ]
        }
      ]
    },
    {
      "cell_type": "code",
      "source": [
        "div_class = 'row margin0'\n",
        "div = doc.find_all('div', {'class': div_class})"
      ],
      "metadata": {
        "id": "3tQV3lyMltZA"
      },
      "execution_count": null,
      "outputs": []
    },
    {
      "cell_type": "code",
      "source": [
        "div[15].text"
      ],
      "metadata": {
        "colab": {
          "base_uri": "https://localhost:8080/",
          "height": 227
        },
        "id": "xvQCQrKoo9uO",
        "outputId": "0dc7746d-9e3b-4518-ae83-b10f14798a31"
      },
      "execution_count": null,
      "outputs": [
        {
          "output_type": "execute_result",
          "data": {
            "text/plain": [
              "'\\n\\nLife @ DJSCE\\n\\n\\n\\n\\r\\n\\t\\t\\t\\t\\tDepartments\\r\\n\\t\\t\\t\\t\\t\\n\\nElectronics and Telecommunication Engg\\nInformation Technology\\nComputer Engineering\\nMechanical Engineering\\nComputer Science and Engineering (Data Science)\\nArtificial Intelligence and Machine Learning\\nArtificial Intelligence (AI) and Data Science\\nComputer Science and Engineering (IOT and Cyber Security with Block Chain Technology)\\nChemical Engineering (Discontinued)\\nElectronics Engineering (Discontinued)\\nProduction Engineering (Discontinued)\\nBiomedical Engineering (Discontinued)\\n\\n\\n\\n\\n\\n\\r\\n\\t\\t\\t\\t\\tStudent Chapters\\r\\n\\t\\t\\t\\t\\t\\n\\nDJS ACM (Association for Computing Machinery) \\nDJS CSI (Computer Society of India)\\nDJS IEEE (Institute of Electrical and Electronics Engineers)\\nDJS IETE (Institution of Electronics and Telecommunication Engineers)\\nDJS IICHE (Indian Institute of Chemical Engineers)\\nDJS ISME (Indian Society of Manufacturing Engineers)\\nDJS SAE (Society of Automotive Engineers)\\nDJS ISHRAE (Indian Society of Heating Refrigeration and Air Conditioning Engineers)\\nDJS RAS (Robotics and Automation Society)\\nDJS PACEMAKERS (Biomedical Engineering Chapter)\\nDJS S4DS (Society for Data Science)\\nDJS ACM SIGAI (ACM Special Interest Group on Artificial Intelligence)\\nDJS ISACA (Information Systems Audit and Control Association)\\nDJS NSDC (National Student Data Corps): under Northeast Big Data Innovation Hub, USA\\n\\n\\n\\n\\n\\n\\r\\n\\t\\t\\t\\t\\tTeams/Clubs\\r\\n\\t\\t\\t\\t\\t\\n\\nDJS N.S.S. (National Service Scheme)\\nDJS Unicode (Coding Club)\\nDJS Synapse (Machine Learning Club)\\nDJS Nature Trek Club\\nDJS Codestars – The Programmer’s Club\\nDJS DJinit.ai (AI Club)\\nDJS LIT (Literature)\\nDJS Beats (Music)\\nDJS Aura (Drama)\\nDJS Panache (Fashion)\\nDJS E-cell (Entrepreneurship Cell)\\nDJS Express (Debate)\\nDJS GDSC (Google Developer Student Club)\\nDJS Compute (Computing club)\\nDJS R & D Club\\nDJS Dhadak (Dance Club)\\nDJS MUNSOC (Model United Nations Society)\\nDJS NOVA\\nDJS Trinity\\nDJS Kronos\\nDJS Racing\\nDJS Skylark\\nDJS Karting\\nDJS Helios\\nDJS Phoenix\\nDJS Speedster\\nDJS Miles\\nDJS Robocon\\nDJS Astra\\nDJS Arya\\nDJS Antariksh\\n\\n\\n\\n'"
            ],
            "application/vnd.google.colaboratory.intrinsic+json": {
              "type": "string"
            }
          },
          "metadata": {},
          "execution_count": 57
        }
      ]
    },
    {
      "cell_type": "code",
      "source": [
        "import pandas as pd\n",
        "\n",
        "# Extract the text content from the div\n",
        "text = div[15].text\n",
        "\n",
        "# Define section headers to split the content\n",
        "departments_header = \"Departments\"\n",
        "student_chapters_header = \"Student Chapters\"\n",
        "clubs_header = \"Teams/Clubs\"\n",
        "\n",
        "# Split the text using section headers\n",
        "sections = text.split('\\n\\n\\n\\n\\n\\n')\n",
        "\n",
        "# Initialize empty lists for each section\n",
        "departments = []\n",
        "student_chapters = []\n",
        "clubs = []\n",
        "\n",
        "# Process the extracted sections\n",
        "for section in sections:\n",
        "    if departments_header in section:\n",
        "        departments = section.split('\\n')[2:]  # Skip the header and empty lines\n",
        "    elif student_chapters_header in section:\n",
        "        student_chapters = section.split('\\n')[2:]  # Skip the header and empty lines\n",
        "    elif clubs_header in section:\n",
        "        clubs = section.split('\\n')[2:]  # Skip the header and empty lines\n",
        "\n",
        "# Clean up the lists by stripping whitespace and removing empty strings\n",
        "# Drop the first two rows from departments\n",
        "departments = [dept.strip() for dept in departments[2:] if dept.strip()]\n",
        "student_chapters = [chapter.strip() for chapter in student_chapters if chapter.strip()]\n",
        "clubs = [club.strip() for club in clubs if club.strip()]\n",
        "\n",
        "# Align the lengths of the lists by padding shorter lists with None\n",
        "max_length = max(len(departments), len(student_chapters), len(clubs))\n",
        "\n",
        "departments += [None] * (max_length - len(departments))\n",
        "student_chapters += [None] * (max_length - len(student_chapters))\n",
        "clubs += [None] * (max_length - len(clubs))\n",
        "\n",
        "# Create a DataFrame\n",
        "DJSCE = {\n",
        "    'Departments': departments,\n",
        "    'Student Chapters': student_chapters,\n",
        "    'Teams/Clubs': clubs\n",
        "}\n",
        "\n",
        "df = pd.DataFrame(DJSCE)\n",
        "df.to_csv('DJSCE.csv', index=False)"
      ],
      "metadata": {
        "id": "shWYMMn9nMeH"
      },
      "execution_count": null,
      "outputs": []
    },
    {
      "cell_type": "code",
      "source": [
        "DJSCE"
      ],
      "metadata": {
        "colab": {
          "base_uri": "https://localhost:8080/"
        },
        "id": "atjFb_JipI55",
        "outputId": "44bbf091-30b3-4da3-8b62-c302fd508b02"
      },
      "execution_count": null,
      "outputs": [
        {
          "output_type": "execute_result",
          "data": {
            "text/plain": [
              "{'Departments': ['Departments',\n",
              "  'Electronics and Telecommunication Engg',\n",
              "  'Information Technology',\n",
              "  'Computer Engineering',\n",
              "  'Mechanical Engineering',\n",
              "  'Computer Science and Engineering (Data Science)',\n",
              "  'Artificial Intelligence and Machine Learning',\n",
              "  'Artificial Intelligence (AI) and Data Science',\n",
              "  'Computer Science and Engineering (IOT and Cyber Security with Block Chain Technology)',\n",
              "  'Chemical Engineering (Discontinued)',\n",
              "  'Electronics Engineering (Discontinued)',\n",
              "  'Production Engineering (Discontinued)',\n",
              "  'Biomedical Engineering (Discontinued)',\n",
              "  None,\n",
              "  None,\n",
              "  None,\n",
              "  None,\n",
              "  None,\n",
              "  None,\n",
              "  None,\n",
              "  None,\n",
              "  None,\n",
              "  None,\n",
              "  None,\n",
              "  None,\n",
              "  None,\n",
              "  None,\n",
              "  None,\n",
              "  None,\n",
              "  None,\n",
              "  None],\n",
              " 'Student Chapters': ['DJS ACM (Association for Computing Machinery)',\n",
              "  'DJS CSI (Computer Society of India)',\n",
              "  'DJS IEEE (Institute of Electrical and Electronics Engineers)',\n",
              "  'DJS IETE (Institution of Electronics and Telecommunication Engineers)',\n",
              "  'DJS IICHE (Indian Institute of Chemical Engineers)',\n",
              "  'DJS ISME (Indian Society of Manufacturing Engineers)',\n",
              "  'DJS SAE (Society of Automotive Engineers)',\n",
              "  'DJS ISHRAE (Indian Society of Heating Refrigeration and Air Conditioning Engineers)',\n",
              "  'DJS RAS (Robotics and Automation Society)',\n",
              "  'DJS PACEMAKERS (Biomedical Engineering Chapter)',\n",
              "  'DJS S4DS (Society for Data Science)',\n",
              "  'DJS ACM SIGAI (ACM Special Interest Group on Artificial Intelligence)',\n",
              "  'DJS ISACA (Information Systems Audit and Control Association)',\n",
              "  'DJS NSDC (National Student Data Corps): under Northeast Big Data Innovation Hub, USA',\n",
              "  None,\n",
              "  None,\n",
              "  None,\n",
              "  None,\n",
              "  None,\n",
              "  None,\n",
              "  None,\n",
              "  None,\n",
              "  None,\n",
              "  None,\n",
              "  None,\n",
              "  None,\n",
              "  None,\n",
              "  None,\n",
              "  None,\n",
              "  None,\n",
              "  None],\n",
              " 'Teams/Clubs': ['DJS N.S.S. (National Service Scheme)',\n",
              "  'DJS Unicode (Coding Club)',\n",
              "  'DJS Synapse (Machine Learning Club)',\n",
              "  'DJS Nature Trek Club',\n",
              "  'DJS Codestars – The Programmer’s Club',\n",
              "  'DJS DJinit.ai (AI Club)',\n",
              "  'DJS LIT (Literature)',\n",
              "  'DJS Beats (Music)',\n",
              "  'DJS Aura (Drama)',\n",
              "  'DJS Panache (Fashion)',\n",
              "  'DJS E-cell (Entrepreneurship Cell)',\n",
              "  'DJS Express (Debate)',\n",
              "  'DJS GDSC (Google Developer Student Club)',\n",
              "  'DJS Compute (Computing club)',\n",
              "  'DJS R & D Club',\n",
              "  'DJS Dhadak (Dance Club)',\n",
              "  'DJS MUNSOC (Model United Nations Society)',\n",
              "  'DJS NOVA',\n",
              "  'DJS Trinity',\n",
              "  'DJS Kronos',\n",
              "  'DJS Racing',\n",
              "  'DJS Skylark',\n",
              "  'DJS Karting',\n",
              "  'DJS Helios',\n",
              "  'DJS Phoenix',\n",
              "  'DJS Speedster',\n",
              "  'DJS Miles',\n",
              "  'DJS Robocon',\n",
              "  'DJS Astra',\n",
              "  'DJS Arya',\n",
              "  'DJS Antariksh']}"
            ]
          },
          "metadata": {},
          "execution_count": 78
        }
      ]
    },
    {
      "cell_type": "code",
      "source": [],
      "metadata": {
        "id": "G0aBARyYrkBe"
      },
      "execution_count": null,
      "outputs": []
    }
  ]
}