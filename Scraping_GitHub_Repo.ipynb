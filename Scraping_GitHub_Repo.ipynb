{
  "nbformat": 4,
  "nbformat_minor": 0,
  "metadata": {
    "colab": {
      "provenance": [],
      "authorship_tag": "ABX9TyN5Ewo8fS5hBij3KA+v8GJF",
      "include_colab_link": true
    },
    "kernelspec": {
      "name": "python3",
      "display_name": "Python 3"
    },
    "language_info": {
      "name": "python"
    }
  },
  "cells": [
    {
      "cell_type": "markdown",
      "metadata": {
        "id": "view-in-github",
        "colab_type": "text"
      },
      "source": [
        "<a href=\"https://colab.research.google.com/github/hitanshu5/WebScrapping/blob/main/Scraping_GitHub_Repo.ipynb\" target=\"_parent\"><img src=\"https://colab.research.google.com/assets/colab-badge.svg\" alt=\"Open In Colab\"/></a>"
      ]
    },
    {
      "cell_type": "markdown",
      "source": [
        "# Scrapping Top Repositories for Topics on GitHub\n",
        "\n",
        "## TODO:                                               \n",
        "### - Introduction about web scrapping\n",
        "### - Introduction about GitHub and the problem statement\n",
        "### - Mention the tools you're using (Python, requests, BeautifulSoup, Pandas)"
      ],
      "metadata": {
        "id": "Yi5gzDbEm57i"
      }
    },
    {
      "cell_type": "code",
      "execution_count": null,
      "metadata": {
        "id": "5Ir3AAZcpwJG"
      },
      "outputs": [],
      "source": [
        "!pip install jovian --upgrade --quiet"
      ]
    },
    {
      "cell_type": "code",
      "source": [
        "import jovian"
      ],
      "metadata": {
        "id": "E-78mHWUp5ib"
      },
      "execution_count": null,
      "outputs": []
    },
    {
      "cell_type": "code",
      "source": [
        "jovian.commit(project='Scraping-GitHub-Repo')"
      ],
      "metadata": {
        "colab": {
          "base_uri": "https://localhost:8080/"
        },
        "id": "i1vpp9LIqBvH",
        "outputId": "c1309df6-7153-459d-af50-09fa0d8a8a98"
      },
      "execution_count": null,
      "outputs": [
        {
          "output_type": "stream",
          "name": "stdout",
          "text": [
            "[jovian] Detected Colab notebook...\u001b[0m\n",
            "[jovian] jovian.commit() is no longer required on Google Colab. If you ran this notebook from Jovian, \n",
            "then just save this file in Colab using Ctrl+S/Cmd+S and it will be updated on Jovian. \n",
            "Also, you can also delete this cell, it's no longer necessary.\u001b[0m\n"
          ]
        }
      ]
    },
    {
      "cell_type": "markdown",
      "source": [
        "\n",
        "\n",
        "### *   We're going to scrape https://github.com/topics\n",
        "### *   We'll get a list of topics. For each topic, we'll get topic title, topic page URL and topic description\n",
        "### * For each topic, we'll get the top 25 repositories in the topic from the topic page\n",
        "### *  For each repository, we'll grab the repo name, username, stars and repo URL\n",
        "### * For each topic we'll create a CSV file in the following format:\n",
        "### New Section\n",
        "###  Repo Name,Username,Stars,Repo URL\n",
        "### three.js,mrdoob,69700,https://github.com/mrdoob/three.js\n",
        "### libgdx,libgdx,18300,https://github.com/libgdx/libgdx\n",
        "\n",
        "\n",
        "\n",
        "\n",
        "\n",
        "\n",
        "\n",
        "\n"
      ],
      "metadata": {
        "id": "ulH8PUMasRdf"
      }
    },
    {
      "cell_type": "markdown",
      "source": [
        "# Scrape the list of topics from GitHub\n",
        "\n",
        "### - Use requests to download the page\n",
        "### - Use BS4 to parse and extract information\n",
        "### - Convert to Pandas DataFrame"
      ],
      "metadata": {
        "id": "w8YRPjh2pBpg"
      }
    },
    {
      "cell_type": "code",
      "source": [
        "!pip install requests==2.31.0 --upgrade --quiet"
      ],
      "metadata": {
        "id": "w2-dyx0us97b"
      },
      "execution_count": null,
      "outputs": []
    },
    {
      "cell_type": "code",
      "source": [
        "import requests"
      ],
      "metadata": {
        "id": "dD7Xsqayt47E"
      },
      "execution_count": null,
      "outputs": []
    },
    {
      "cell_type": "markdown",
      "source": [
        "# Request Library to download WebPage"
      ],
      "metadata": {
        "id": "9CNAlNuYp-Ya"
      }
    },
    {
      "cell_type": "code",
      "source": [
        "topics_url = 'https://github.com/topics'"
      ],
      "metadata": {
        "id": "BZDQsPVluXKA"
      },
      "execution_count": null,
      "outputs": []
    },
    {
      "cell_type": "code",
      "source": [
        "response = requests.get(topics_url)"
      ],
      "metadata": {
        "id": "QN9pdPe5ueFa"
      },
      "execution_count": null,
      "outputs": []
    },
    {
      "cell_type": "markdown",
      "source": [
        "### there are different status codes depending upon response of the webpage\n",
        "### always check status to know whether webpage has been downloaded\n",
        "### Google HTTP response status codes to know more"
      ],
      "metadata": {
        "id": "a1EKzzuKvRpX"
      }
    },
    {
      "cell_type": "code",
      "source": [
        "response.status_code"
      ],
      "metadata": {
        "colab": {
          "base_uri": "https://localhost:8080/"
        },
        "id": "6n30yFC9ujWA",
        "outputId": "b4999c55-3dfe-434d-bd5b-4403958bd0aa"
      },
      "execution_count": null,
      "outputs": [
        {
          "output_type": "execute_result",
          "data": {
            "text/plain": [
              "200"
            ]
          },
          "metadata": {},
          "execution_count": 94
        }
      ]
    },
    {
      "cell_type": "code",
      "source": [
        "len(response.text)"
      ],
      "metadata": {
        "colab": {
          "base_uri": "https://localhost:8080/"
        },
        "id": "GZqEysb8uq81",
        "outputId": "762abd04-cd46-4261-af9c-cdb480cc1cb9"
      },
      "execution_count": null,
      "outputs": [
        {
          "output_type": "execute_result",
          "data": {
            "text/plain": [
              "199768"
            ]
          },
          "metadata": {},
          "execution_count": 95
        }
      ]
    },
    {
      "cell_type": "code",
      "source": [
        "page_content = response.text"
      ],
      "metadata": {
        "id": "yqFHioT1wDir"
      },
      "execution_count": null,
      "outputs": []
    },
    {
      "cell_type": "code",
      "source": [
        "page_content[:1000]"
      ],
      "metadata": {
        "colab": {
          "base_uri": "https://localhost:8080/",
          "height": 123
        },
        "id": "zGQ7ntPawRJ0",
        "outputId": "f15b3f7a-9f4d-462e-c4c2-e03f975e7bc1"
      },
      "execution_count": null,
      "outputs": [
        {
          "output_type": "execute_result",
          "data": {
            "text/plain": [
              "'\\n\\n<!DOCTYPE html>\\n<html\\n  lang=\"en\"\\n  \\n  data-color-mode=\"auto\" data-light-theme=\"light\" data-dark-theme=\"dark\"\\n  data-a11y-animated-images=\"system\" data-a11y-link-underlines=\"true\"\\n  >\\n\\n\\n\\n  <head>\\n    <meta charset=\"utf-8\">\\n  <link rel=\"dns-prefetch\" href=\"https://github.githubassets.com\">\\n  <link rel=\"dns-prefetch\" href=\"https://avatars.githubusercontent.com\">\\n  <link rel=\"dns-prefetch\" href=\"https://github-cloud.s3.amazonaws.com\">\\n  <link rel=\"dns-prefetch\" href=\"https://user-images.githubusercontent.com/\">\\n  <link rel=\"preconnect\" href=\"https://github.githubassets.com\" crossorigin>\\n  <link rel=\"preconnect\" href=\"https://avatars.githubusercontent.com\">\\n\\n  \\n\\n  <link crossorigin=\"anonymous\" media=\"all\" rel=\"stylesheet\" href=\"https://github.githubassets.com/assets/light-efd2f2257c96.css\" /><link crossorigin=\"anonymous\" media=\"all\" rel=\"stylesheet\" href=\"https://github.githubassets.com/assets/dark-6b1e37da2254.css\" /><link data-color-theme=\"dark_dimmed\" crossorigin=\"anonymous\" media=\"al'"
            ],
            "application/vnd.google.colaboratory.intrinsic+json": {
              "type": "string"
            }
          },
          "metadata": {},
          "execution_count": 97
        }
      ]
    },
    {
      "cell_type": "code",
      "source": [
        "with open('webpage.html', 'w') as f:\n",
        "  f.write(page_content)"
      ],
      "metadata": {
        "id": "Ojcg2cCbwUp3"
      },
      "execution_count": null,
      "outputs": []
    },
    {
      "cell_type": "markdown",
      "source": [
        "### Beautiful Soup to parse and extract information"
      ],
      "metadata": {
        "id": "zqCgysKJx-G3"
      }
    },
    {
      "cell_type": "code",
      "source": [
        "!pip install beautifulsoup4 --upgrade --quiet"
      ],
      "metadata": {
        "id": "2S5I0k_Wwx4t"
      },
      "execution_count": null,
      "outputs": []
    },
    {
      "cell_type": "code",
      "source": [
        "from bs4 import BeautifulSoup"
      ],
      "metadata": {
        "id": "BkLo4zLuFJBy"
      },
      "execution_count": null,
      "outputs": []
    },
    {
      "cell_type": "code",
      "source": [
        "doc = BeautifulSoup(page_content, 'html.parser')"
      ],
      "metadata": {
        "id": "egqefBRpFQc6"
      },
      "execution_count": null,
      "outputs": []
    },
    {
      "cell_type": "code",
      "source": [
        "type(doc)"
      ],
      "metadata": {
        "colab": {
          "base_uri": "https://localhost:8080/",
          "height": 186
        },
        "id": "DZKO_pZkFUxn",
        "outputId": "85d694c7-f4d2-4693-e6e9-0408892db69a"
      },
      "execution_count": null,
      "outputs": [
        {
          "output_type": "execute_result",
          "data": {
            "text/plain": [
              "bs4.BeautifulSoup"
            ],
            "text/html": [
              "<div style=\"max-width:800px; border: 1px solid var(--colab-border-color);\"><style>\n",
              "      pre.function-repr-contents {\n",
              "        overflow-x: auto;\n",
              "        padding: 8px 12px;\n",
              "        max-height: 500px;\n",
              "      }\n",
              "\n",
              "      pre.function-repr-contents.function-repr-contents-collapsed {\n",
              "        cursor: pointer;\n",
              "        max-height: 100px;\n",
              "      }\n",
              "    </style>\n",
              "    <pre style=\"white-space: initial; background:\n",
              "         var(--colab-secondary-surface-color); padding: 8px 12px;\n",
              "         border-bottom: 1px solid var(--colab-border-color);\"><b>bs4.BeautifulSoup</b><br/>def __call__(*args, **kwargs)</pre><pre class=\"function-repr-contents function-repr-contents-collapsed\" style=\"\"><a class=\"filepath\" style=\"display:none\" href=\"#\">/usr/local/lib/python3.10/dist-packages/bs4/__init__.py</a>A data structure representing a parsed HTML or XML document.\n",
              "\n",
              "Most of the methods you&#x27;ll call on a BeautifulSoup object are inherited from\n",
              "PageElement or Tag.\n",
              "\n",
              "Internally, this class defines the basic interface called by the\n",
              "tree builders when converting an HTML/XML document into a data\n",
              "structure. The interface abstracts away the differences between\n",
              "parsers. To write a new tree builder, you&#x27;ll need to understand\n",
              "these methods as a whole.\n",
              "\n",
              "These methods will be called by the BeautifulSoup constructor:\n",
              "  * reset()\n",
              "  * feed(markup)\n",
              "\n",
              "The tree builder may call these methods from its feed() implementation:\n",
              "  * handle_starttag(name, attrs) # See note about return value\n",
              "  * handle_endtag(name)\n",
              "  * handle_data(data) # Appends to the current data node\n",
              "  * endData(containerClass) # Ends the current data node\n",
              "\n",
              "No matter how complicated the underlying parser is, you should be\n",
              "able to build a tree using &#x27;start tag&#x27; events, &#x27;end tag&#x27; events,\n",
              "&#x27;data&#x27; events, and &quot;done with data&quot; events.\n",
              "\n",
              "If you encounter an empty-element tag (aka a self-closing tag,\n",
              "like HTML&#x27;s &lt;br&gt; tag), call handle_starttag and then\n",
              "handle_endtag.</pre>\n",
              "      <script>\n",
              "      if (google.colab.kernel.accessAllowed && google.colab.files && google.colab.files.view) {\n",
              "        for (const element of document.querySelectorAll('.filepath')) {\n",
              "          element.style.display = 'block'\n",
              "          element.onclick = (event) => {\n",
              "            event.preventDefault();\n",
              "            event.stopPropagation();\n",
              "            google.colab.files.view(element.textContent, 76);\n",
              "          };\n",
              "        }\n",
              "      }\n",
              "      for (const element of document.querySelectorAll('.function-repr-contents')) {\n",
              "        element.onclick = (event) => {\n",
              "          event.preventDefault();\n",
              "          event.stopPropagation();\n",
              "          element.classList.toggle('function-repr-contents-collapsed');\n",
              "        };\n",
              "      }\n",
              "      </script>\n",
              "      </div>"
            ]
          },
          "metadata": {},
          "execution_count": 102
        }
      ]
    },
    {
      "cell_type": "code",
      "source": [
        "selection_class = 'f3 lh-condensed mb-0 mt-1 Link--primary'\n",
        "p_tags = doc.find_all('p',{'class': selection_class})"
      ],
      "metadata": {
        "id": "YRoJY-t1FbOX"
      },
      "execution_count": null,
      "outputs": []
    },
    {
      "cell_type": "code",
      "source": [
        "len(p_tags)"
      ],
      "metadata": {
        "colab": {
          "base_uri": "https://localhost:8080/"
        },
        "id": "ahGHP3yTGbY1",
        "outputId": "59ab6433-17ac-4438-86cc-a2c378377279"
      },
      "execution_count": null,
      "outputs": [
        {
          "output_type": "execute_result",
          "data": {
            "text/plain": [
              "30"
            ]
          },
          "metadata": {},
          "execution_count": 104
        }
      ]
    },
    {
      "cell_type": "code",
      "source": [
        "p_tags"
      ],
      "metadata": {
        "colab": {
          "base_uri": "https://localhost:8080/"
        },
        "id": "SYrLq1lfGdXp",
        "outputId": "f762b60d-1064-4159-84d8-4902c47bde37"
      },
      "execution_count": null,
      "outputs": [
        {
          "output_type": "execute_result",
          "data": {
            "text/plain": [
              "[<p class=\"f3 lh-condensed mb-0 mt-1 Link--primary\">3D</p>,\n",
              " <p class=\"f3 lh-condensed mb-0 mt-1 Link--primary\">Ajax</p>,\n",
              " <p class=\"f3 lh-condensed mb-0 mt-1 Link--primary\">Algorithm</p>,\n",
              " <p class=\"f3 lh-condensed mb-0 mt-1 Link--primary\">Amp</p>,\n",
              " <p class=\"f3 lh-condensed mb-0 mt-1 Link--primary\">Android</p>,\n",
              " <p class=\"f3 lh-condensed mb-0 mt-1 Link--primary\">Angular</p>,\n",
              " <p class=\"f3 lh-condensed mb-0 mt-1 Link--primary\">Ansible</p>,\n",
              " <p class=\"f3 lh-condensed mb-0 mt-1 Link--primary\">API</p>,\n",
              " <p class=\"f3 lh-condensed mb-0 mt-1 Link--primary\">Arduino</p>,\n",
              " <p class=\"f3 lh-condensed mb-0 mt-1 Link--primary\">ASP.NET</p>,\n",
              " <p class=\"f3 lh-condensed mb-0 mt-1 Link--primary\">Awesome Lists</p>,\n",
              " <p class=\"f3 lh-condensed mb-0 mt-1 Link--primary\">Amazon Web Services</p>,\n",
              " <p class=\"f3 lh-condensed mb-0 mt-1 Link--primary\">Azure</p>,\n",
              " <p class=\"f3 lh-condensed mb-0 mt-1 Link--primary\">Babel</p>,\n",
              " <p class=\"f3 lh-condensed mb-0 mt-1 Link--primary\">Bash</p>,\n",
              " <p class=\"f3 lh-condensed mb-0 mt-1 Link--primary\">Bitcoin</p>,\n",
              " <p class=\"f3 lh-condensed mb-0 mt-1 Link--primary\">Bootstrap</p>,\n",
              " <p class=\"f3 lh-condensed mb-0 mt-1 Link--primary\">Bot</p>,\n",
              " <p class=\"f3 lh-condensed mb-0 mt-1 Link--primary\">C</p>,\n",
              " <p class=\"f3 lh-condensed mb-0 mt-1 Link--primary\">Chrome</p>,\n",
              " <p class=\"f3 lh-condensed mb-0 mt-1 Link--primary\">Chrome extension</p>,\n",
              " <p class=\"f3 lh-condensed mb-0 mt-1 Link--primary\">Command-line interface</p>,\n",
              " <p class=\"f3 lh-condensed mb-0 mt-1 Link--primary\">Clojure</p>,\n",
              " <p class=\"f3 lh-condensed mb-0 mt-1 Link--primary\">Code quality</p>,\n",
              " <p class=\"f3 lh-condensed mb-0 mt-1 Link--primary\">Code review</p>,\n",
              " <p class=\"f3 lh-condensed mb-0 mt-1 Link--primary\">Compiler</p>,\n",
              " <p class=\"f3 lh-condensed mb-0 mt-1 Link--primary\">Continuous integration</p>,\n",
              " <p class=\"f3 lh-condensed mb-0 mt-1 Link--primary\">C++</p>,\n",
              " <p class=\"f3 lh-condensed mb-0 mt-1 Link--primary\">Cryptocurrency</p>,\n",
              " <p class=\"f3 lh-condensed mb-0 mt-1 Link--primary\">Crystal</p>]"
            ]
          },
          "metadata": {},
          "execution_count": 105
        }
      ]
    },
    {
      "cell_type": "code",
      "source": [
        "topic_title_class = 'f5 color-fg-muted mb-0 mt-1'\n",
        "topic_title_tags = doc.find_all('p',{'class':topic_title_class})"
      ],
      "metadata": {
        "id": "xdLkW_gDGoSW"
      },
      "execution_count": null,
      "outputs": []
    },
    {
      "cell_type": "code",
      "source": [
        "len(topic_title_class)"
      ],
      "metadata": {
        "colab": {
          "base_uri": "https://localhost:8080/"
        },
        "id": "wwiZ9nsCMZ56",
        "outputId": "af9148f2-668b-4ceb-ad0f-06352ef322aa"
      },
      "execution_count": null,
      "outputs": [
        {
          "output_type": "execute_result",
          "data": {
            "text/plain": [
              "27"
            ]
          },
          "metadata": {},
          "execution_count": 107
        }
      ]
    },
    {
      "cell_type": "code",
      "source": [
        "topic_title_tags[:3]"
      ],
      "metadata": {
        "colab": {
          "base_uri": "https://localhost:8080/"
        },
        "id": "k5t3mk63MeF6",
        "outputId": "3d49b6e4-7481-4dad-9616-34b2e1db09df"
      },
      "execution_count": null,
      "outputs": [
        {
          "output_type": "execute_result",
          "data": {
            "text/plain": [
              "[<p class=\"f5 color-fg-muted mb-0 mt-1\">\n",
              "           3D refers to the use of three-dimensional graphics, modeling, and animation in various industries.\n",
              "         </p>,\n",
              " <p class=\"f5 color-fg-muted mb-0 mt-1\">\n",
              "           Ajax is a technique for creating interactive web applications.\n",
              "         </p>,\n",
              " <p class=\"f5 color-fg-muted mb-0 mt-1\">\n",
              "           Algorithms are self-contained sequences that carry out a variety of tasks.\n",
              "         </p>]"
            ]
          },
          "metadata": {},
          "execution_count": 108
        }
      ]
    },
    {
      "cell_type": "code",
      "source": [
        "topic_title_tags0 = topic_title_tags[0]"
      ],
      "metadata": {
        "id": "kc3MzRQTMg-w"
      },
      "execution_count": null,
      "outputs": []
    },
    {
      "cell_type": "code",
      "source": [
        "topic_title_tags0.parent\n",
        "\n",
        "#parent is used to go to the class above the one you mentioned in while finding one"
      ],
      "metadata": {
        "colab": {
          "base_uri": "https://localhost:8080/"
        },
        "id": "WOxFoWcGNNwT",
        "outputId": "0ba27c0c-6f86-4a30-b6a3-24f9010402c0"
      },
      "execution_count": null,
      "outputs": [
        {
          "output_type": "execute_result",
          "data": {
            "text/plain": [
              "<a class=\"no-underline flex-1 d-flex flex-column\" href=\"/topics/3d\">\n",
              "<p class=\"f3 lh-condensed mb-0 mt-1 Link--primary\">3D</p>\n",
              "<p class=\"f5 color-fg-muted mb-0 mt-1\">\n",
              "          3D refers to the use of three-dimensional graphics, modeling, and animation in various industries.\n",
              "        </p>\n",
              "</a>"
            ]
          },
          "metadata": {},
          "execution_count": 110
        }
      ]
    },
    {
      "cell_type": "code",
      "source": [
        "link_class = 'no-underline flex-1 d-flex flex-column'\n",
        "topic_link_tag = doc.find_all('a',{'class':link_class})"
      ],
      "metadata": {
        "id": "yusepfEmNVE7"
      },
      "execution_count": null,
      "outputs": []
    },
    {
      "cell_type": "code",
      "source": [
        "len(topic_link_tag)"
      ],
      "metadata": {
        "colab": {
          "base_uri": "https://localhost:8080/"
        },
        "id": "mYzUR95XO6Ta",
        "outputId": "ef275d85-f061-4ef2-a5e4-97b29593bf8a"
      },
      "execution_count": null,
      "outputs": [
        {
          "output_type": "execute_result",
          "data": {
            "text/plain": [
              "30"
            ]
          },
          "metadata": {},
          "execution_count": 112
        }
      ]
    },
    {
      "cell_type": "code",
      "source": [
        "topic_link_tag[0]['href']"
      ],
      "metadata": {
        "colab": {
          "base_uri": "https://localhost:8080/",
          "height": 36
        },
        "id": "sWihplrgRkBv",
        "outputId": "12925c2f-8749-4ef8-d8db-2d428e19ced6"
      },
      "execution_count": null,
      "outputs": [
        {
          "output_type": "execute_result",
          "data": {
            "text/plain": [
              "'/topics/3d'"
            ],
            "application/vnd.google.colaboratory.intrinsic+json": {
              "type": "string"
            }
          },
          "metadata": {},
          "execution_count": 113
        }
      ]
    },
    {
      "cell_type": "code",
      "source": [
        "topic0_url = 'https://github.com' + topic_link_tag[0]['href']\n",
        "print(topic0_url)"
      ],
      "metadata": {
        "colab": {
          "base_uri": "https://localhost:8080/"
        },
        "id": "1scMMUUtO9Ot",
        "outputId": "f463f255-edfb-4520-f960-59e2dbfc18af"
      },
      "execution_count": null,
      "outputs": [
        {
          "output_type": "stream",
          "name": "stdout",
          "text": [
            "https://github.com/topics/3d\n"
          ]
        }
      ]
    },
    {
      "cell_type": "code",
      "source": [
        "p_tags[0].text"
      ],
      "metadata": {
        "colab": {
          "base_uri": "https://localhost:8080/",
          "height": 36
        },
        "id": "f0ZlHjI4UDQ_",
        "outputId": "691eb9a1-8d46-431c-d475-e39c4c2cb8e3"
      },
      "execution_count": null,
      "outputs": [
        {
          "output_type": "execute_result",
          "data": {
            "text/plain": [
              "'3D'"
            ],
            "application/vnd.google.colaboratory.intrinsic+json": {
              "type": "string"
            }
          },
          "metadata": {},
          "execution_count": 115
        }
      ]
    },
    {
      "cell_type": "code",
      "source": [
        "topic_title_tags[0].text"
      ],
      "metadata": {
        "colab": {
          "base_uri": "https://localhost:8080/",
          "height": 36
        },
        "id": "ZTYKvVhDTa5p",
        "outputId": "57a25110-625c-45da-8700-ec7051a5d8b7"
      },
      "execution_count": null,
      "outputs": [
        {
          "output_type": "execute_result",
          "data": {
            "text/plain": [
              "'\\n          3D refers to the use of three-dimensional graphics, modeling, and animation in various industries.\\n        '"
            ],
            "application/vnd.google.colaboratory.intrinsic+json": {
              "type": "string"
            }
          },
          "metadata": {},
          "execution_count": 116
        }
      ]
    },
    {
      "cell_type": "code",
      "source": [
        "topic_titles = []\n",
        "\n",
        "for tags in p_tags:\n",
        "  topic_titles.append(tags.text)\n",
        "\n",
        "print(topic_titles)"
      ],
      "metadata": {
        "colab": {
          "base_uri": "https://localhost:8080/"
        },
        "id": "qo53eQqMRhEf",
        "outputId": "471a8654-8bcd-493f-ea2f-61ea9539a40d"
      },
      "execution_count": null,
      "outputs": [
        {
          "output_type": "stream",
          "name": "stdout",
          "text": [
            "['3D', 'Ajax', 'Algorithm', 'Amp', 'Android', 'Angular', 'Ansible', 'API', 'Arduino', 'ASP.NET', 'Awesome Lists', 'Amazon Web Services', 'Azure', 'Babel', 'Bash', 'Bitcoin', 'Bootstrap', 'Bot', 'C', 'Chrome', 'Chrome extension', 'Command-line interface', 'Clojure', 'Code quality', 'Code review', 'Compiler', 'Continuous integration', 'C++', 'Cryptocurrency', 'Crystal']\n"
          ]
        }
      ]
    },
    {
      "cell_type": "code",
      "source": [
        "topic_descriptions = []\n",
        "\n",
        "for desc in topic_title_tags:\n",
        "  topic_descriptions.append(desc.text.strip())\n",
        "\n",
        "print(topic_descriptions)"
      ],
      "metadata": {
        "colab": {
          "base_uri": "https://localhost:8080/"
        },
        "id": "h9kpZ9yWTZ0z",
        "outputId": "fc5181f3-1c8f-4dfd-d8a9-ed6ac514dd01"
      },
      "execution_count": null,
      "outputs": [
        {
          "output_type": "stream",
          "name": "stdout",
          "text": [
            "['3D refers to the use of three-dimensional graphics, modeling, and animation in various industries.', 'Ajax is a technique for creating interactive web applications.', 'Algorithms are self-contained sequences that carry out a variety of tasks.', 'Amp is a non-blocking concurrency library for PHP.', 'Android is an operating system built by Google designed for mobile devices.', 'Angular is an open source web application platform.', 'Ansible is a simple and powerful automation engine.', 'An API (Application Programming Interface) is a collection of protocols and subroutines for building software.', 'Arduino is an open source platform for building electronic devices.', 'ASP.NET is a web framework for building modern web apps and services.', 'An awesome list is a list of awesome things curated by the community.', 'Amazon Web Services provides on-demand cloud computing platforms on a subscription basis.', 'Azure is a cloud computing service created by Microsoft.', 'Babel is a compiler for writing next generation JavaScript, today.', 'Bash is a shell and command language interpreter for the GNU operating system.', 'Bitcoin is a cryptocurrency developed by Satoshi Nakamoto.', 'Bootstrap is an HTML, CSS, and JavaScript framework.', 'A bot is an application that runs automated tasks over the Internet.', 'C is a general purpose programming language that first appeared in 1972.', 'Chrome is a web browser from the tech company Google.', 'Chrome extensions enable users to customize the Chrome browsing experience.', 'A CLI, or command-line interface, is a console that helps users issue commands to a program.', 'Clojure is a dynamic, general-purpose programming language.', 'Automate your code review with style, quality, security, and test‑coverage checks when you need them.', 'Ensure your code meets quality standards and ship with confidence.', 'Compilers are software that translate higher-level programming languages to lower-level languages (e.g. machine code).', 'Automatically build and test your code as you push it upstream, preventing bugs from being deployed to production.', 'C++ is a general purpose and object-oriented programming language.', 'A cryptocurrency is a digital currency that uses cryptography.', 'Crystal is a self-hosted, general purpose programming language.']\n"
          ]
        }
      ]
    },
    {
      "cell_type": "code",
      "source": [
        "topic_urls = []\n",
        "base = 'https://github.com'\n",
        "\n",
        "for url in topic_link_tag:\n",
        "  topic_urls.append(base + url['href'])\n",
        "\n",
        "print(topic_urls)"
      ],
      "metadata": {
        "colab": {
          "base_uri": "https://localhost:8080/"
        },
        "id": "6YB_44AUVAVO",
        "outputId": "dd2e791f-cd33-40f7-ab16-e9194f1204bd"
      },
      "execution_count": null,
      "outputs": [
        {
          "output_type": "stream",
          "name": "stdout",
          "text": [
            "['https://github.com/topics/3d', 'https://github.com/topics/ajax', 'https://github.com/topics/algorithm', 'https://github.com/topics/amphp', 'https://github.com/topics/android', 'https://github.com/topics/angular', 'https://github.com/topics/ansible', 'https://github.com/topics/api', 'https://github.com/topics/arduino', 'https://github.com/topics/aspnet', 'https://github.com/topics/awesome', 'https://github.com/topics/aws', 'https://github.com/topics/azure', 'https://github.com/topics/babel', 'https://github.com/topics/bash', 'https://github.com/topics/bitcoin', 'https://github.com/topics/bootstrap', 'https://github.com/topics/bot', 'https://github.com/topics/c', 'https://github.com/topics/chrome', 'https://github.com/topics/chrome-extension', 'https://github.com/topics/cli', 'https://github.com/topics/clojure', 'https://github.com/topics/code-quality', 'https://github.com/topics/code-review', 'https://github.com/topics/compiler', 'https://github.com/topics/continuous-integration', 'https://github.com/topics/cpp', 'https://github.com/topics/cryptocurrency', 'https://github.com/topics/crystal']\n"
          ]
        }
      ]
    },
    {
      "cell_type": "markdown",
      "source": [
        "### Now we convert all the data into a csv file\n"
      ],
      "metadata": {
        "id": "z9qXH1LCXiEF"
      }
    },
    {
      "cell_type": "code",
      "source": [
        "import pandas as pd"
      ],
      "metadata": {
        "id": "P_F_HC98XvOh"
      },
      "execution_count": null,
      "outputs": []
    },
    {
      "cell_type": "code",
      "source": [
        " topics_dict = {\n",
        "     'title': topic_titles,\n",
        "     'description': topic_descriptions,\n",
        "     'url': topic_urls\n",
        " }"
      ],
      "metadata": {
        "id": "Wyfz14AYWt4Q"
      },
      "execution_count": null,
      "outputs": []
    },
    {
      "cell_type": "code",
      "source": [
        "topics_df = pd.DataFrame(topics_dict)"
      ],
      "metadata": {
        "id": "uNhsRezkXtd9"
      },
      "execution_count": null,
      "outputs": []
    },
    {
      "cell_type": "code",
      "source": [
        "topics_df.head()"
      ],
      "metadata": {
        "colab": {
          "base_uri": "https://localhost:8080/",
          "height": 206
        },
        "id": "Qgmnxl07X28d",
        "outputId": "b6213b02-1146-41a9-f6d0-e149277af99f"
      },
      "execution_count": null,
      "outputs": [
        {
          "output_type": "execute_result",
          "data": {
            "text/plain": [
              "       title                                        description  \\\n",
              "0         3D  3D refers to the use of three-dimensional grap...   \n",
              "1       Ajax  Ajax is a technique for creating interactive w...   \n",
              "2  Algorithm  Algorithms are self-contained sequences that c...   \n",
              "3        Amp  Amp is a non-blocking concurrency library for ...   \n",
              "4    Android  Android is an operating system built by Google...   \n",
              "\n",
              "                                   url  \n",
              "0         https://github.com/topics/3d  \n",
              "1       https://github.com/topics/ajax  \n",
              "2  https://github.com/topics/algorithm  \n",
              "3      https://github.com/topics/amphp  \n",
              "4    https://github.com/topics/android  "
            ],
            "text/html": [
              "\n",
              "  <div id=\"df-87d0f285-f5f5-45d9-a598-fbfe4bdcbb52\" class=\"colab-df-container\">\n",
              "    <div>\n",
              "<style scoped>\n",
              "    .dataframe tbody tr th:only-of-type {\n",
              "        vertical-align: middle;\n",
              "    }\n",
              "\n",
              "    .dataframe tbody tr th {\n",
              "        vertical-align: top;\n",
              "    }\n",
              "\n",
              "    .dataframe thead th {\n",
              "        text-align: right;\n",
              "    }\n",
              "</style>\n",
              "<table border=\"1\" class=\"dataframe\">\n",
              "  <thead>\n",
              "    <tr style=\"text-align: right;\">\n",
              "      <th></th>\n",
              "      <th>title</th>\n",
              "      <th>description</th>\n",
              "      <th>url</th>\n",
              "    </tr>\n",
              "  </thead>\n",
              "  <tbody>\n",
              "    <tr>\n",
              "      <th>0</th>\n",
              "      <td>3D</td>\n",
              "      <td>3D refers to the use of three-dimensional grap...</td>\n",
              "      <td>https://github.com/topics/3d</td>\n",
              "    </tr>\n",
              "    <tr>\n",
              "      <th>1</th>\n",
              "      <td>Ajax</td>\n",
              "      <td>Ajax is a technique for creating interactive w...</td>\n",
              "      <td>https://github.com/topics/ajax</td>\n",
              "    </tr>\n",
              "    <tr>\n",
              "      <th>2</th>\n",
              "      <td>Algorithm</td>\n",
              "      <td>Algorithms are self-contained sequences that c...</td>\n",
              "      <td>https://github.com/topics/algorithm</td>\n",
              "    </tr>\n",
              "    <tr>\n",
              "      <th>3</th>\n",
              "      <td>Amp</td>\n",
              "      <td>Amp is a non-blocking concurrency library for ...</td>\n",
              "      <td>https://github.com/topics/amphp</td>\n",
              "    </tr>\n",
              "    <tr>\n",
              "      <th>4</th>\n",
              "      <td>Android</td>\n",
              "      <td>Android is an operating system built by Google...</td>\n",
              "      <td>https://github.com/topics/android</td>\n",
              "    </tr>\n",
              "  </tbody>\n",
              "</table>\n",
              "</div>\n",
              "    <div class=\"colab-df-buttons\">\n",
              "\n",
              "  <div class=\"colab-df-container\">\n",
              "    <button class=\"colab-df-convert\" onclick=\"convertToInteractive('df-87d0f285-f5f5-45d9-a598-fbfe4bdcbb52')\"\n",
              "            title=\"Convert this dataframe to an interactive table.\"\n",
              "            style=\"display:none;\">\n",
              "\n",
              "  <svg xmlns=\"http://www.w3.org/2000/svg\" height=\"24px\" viewBox=\"0 -960 960 960\">\n",
              "    <path d=\"M120-120v-720h720v720H120Zm60-500h600v-160H180v160Zm220 220h160v-160H400v160Zm0 220h160v-160H400v160ZM180-400h160v-160H180v160Zm440 0h160v-160H620v160ZM180-180h160v-160H180v160Zm440 0h160v-160H620v160Z\"/>\n",
              "  </svg>\n",
              "    </button>\n",
              "\n",
              "  <style>\n",
              "    .colab-df-container {\n",
              "      display:flex;\n",
              "      gap: 12px;\n",
              "    }\n",
              "\n",
              "    .colab-df-convert {\n",
              "      background-color: #E8F0FE;\n",
              "      border: none;\n",
              "      border-radius: 50%;\n",
              "      cursor: pointer;\n",
              "      display: none;\n",
              "      fill: #1967D2;\n",
              "      height: 32px;\n",
              "      padding: 0 0 0 0;\n",
              "      width: 32px;\n",
              "    }\n",
              "\n",
              "    .colab-df-convert:hover {\n",
              "      background-color: #E2EBFA;\n",
              "      box-shadow: 0px 1px 2px rgba(60, 64, 67, 0.3), 0px 1px 3px 1px rgba(60, 64, 67, 0.15);\n",
              "      fill: #174EA6;\n",
              "    }\n",
              "\n",
              "    .colab-df-buttons div {\n",
              "      margin-bottom: 4px;\n",
              "    }\n",
              "\n",
              "    [theme=dark] .colab-df-convert {\n",
              "      background-color: #3B4455;\n",
              "      fill: #D2E3FC;\n",
              "    }\n",
              "\n",
              "    [theme=dark] .colab-df-convert:hover {\n",
              "      background-color: #434B5C;\n",
              "      box-shadow: 0px 1px 3px 1px rgba(0, 0, 0, 0.15);\n",
              "      filter: drop-shadow(0px 1px 2px rgba(0, 0, 0, 0.3));\n",
              "      fill: #FFFFFF;\n",
              "    }\n",
              "  </style>\n",
              "\n",
              "    <script>\n",
              "      const buttonEl =\n",
              "        document.querySelector('#df-87d0f285-f5f5-45d9-a598-fbfe4bdcbb52 button.colab-df-convert');\n",
              "      buttonEl.style.display =\n",
              "        google.colab.kernel.accessAllowed ? 'block' : 'none';\n",
              "\n",
              "      async function convertToInteractive(key) {\n",
              "        const element = document.querySelector('#df-87d0f285-f5f5-45d9-a598-fbfe4bdcbb52');\n",
              "        const dataTable =\n",
              "          await google.colab.kernel.invokeFunction('convertToInteractive',\n",
              "                                                    [key], {});\n",
              "        if (!dataTable) return;\n",
              "\n",
              "        const docLinkHtml = 'Like what you see? Visit the ' +\n",
              "          '<a target=\"_blank\" href=https://colab.research.google.com/notebooks/data_table.ipynb>data table notebook</a>'\n",
              "          + ' to learn more about interactive tables.';\n",
              "        element.innerHTML = '';\n",
              "        dataTable['output_type'] = 'display_data';\n",
              "        await google.colab.output.renderOutput(dataTable, element);\n",
              "        const docLink = document.createElement('div');\n",
              "        docLink.innerHTML = docLinkHtml;\n",
              "        element.appendChild(docLink);\n",
              "      }\n",
              "    </script>\n",
              "  </div>\n",
              "\n",
              "\n",
              "<div id=\"df-7c3baf9b-f455-4967-8ede-b8c0eeb59f31\">\n",
              "  <button class=\"colab-df-quickchart\" onclick=\"quickchart('df-7c3baf9b-f455-4967-8ede-b8c0eeb59f31')\"\n",
              "            title=\"Suggest charts\"\n",
              "            style=\"display:none;\">\n",
              "\n",
              "<svg xmlns=\"http://www.w3.org/2000/svg\" height=\"24px\"viewBox=\"0 0 24 24\"\n",
              "     width=\"24px\">\n",
              "    <g>\n",
              "        <path d=\"M19 3H5c-1.1 0-2 .9-2 2v14c0 1.1.9 2 2 2h14c1.1 0 2-.9 2-2V5c0-1.1-.9-2-2-2zM9 17H7v-7h2v7zm4 0h-2V7h2v10zm4 0h-2v-4h2v4z\"/>\n",
              "    </g>\n",
              "</svg>\n",
              "  </button>\n",
              "\n",
              "<style>\n",
              "  .colab-df-quickchart {\n",
              "      --bg-color: #E8F0FE;\n",
              "      --fill-color: #1967D2;\n",
              "      --hover-bg-color: #E2EBFA;\n",
              "      --hover-fill-color: #174EA6;\n",
              "      --disabled-fill-color: #AAA;\n",
              "      --disabled-bg-color: #DDD;\n",
              "  }\n",
              "\n",
              "  [theme=dark] .colab-df-quickchart {\n",
              "      --bg-color: #3B4455;\n",
              "      --fill-color: #D2E3FC;\n",
              "      --hover-bg-color: #434B5C;\n",
              "      --hover-fill-color: #FFFFFF;\n",
              "      --disabled-bg-color: #3B4455;\n",
              "      --disabled-fill-color: #666;\n",
              "  }\n",
              "\n",
              "  .colab-df-quickchart {\n",
              "    background-color: var(--bg-color);\n",
              "    border: none;\n",
              "    border-radius: 50%;\n",
              "    cursor: pointer;\n",
              "    display: none;\n",
              "    fill: var(--fill-color);\n",
              "    height: 32px;\n",
              "    padding: 0;\n",
              "    width: 32px;\n",
              "  }\n",
              "\n",
              "  .colab-df-quickchart:hover {\n",
              "    background-color: var(--hover-bg-color);\n",
              "    box-shadow: 0 1px 2px rgba(60, 64, 67, 0.3), 0 1px 3px 1px rgba(60, 64, 67, 0.15);\n",
              "    fill: var(--button-hover-fill-color);\n",
              "  }\n",
              "\n",
              "  .colab-df-quickchart-complete:disabled,\n",
              "  .colab-df-quickchart-complete:disabled:hover {\n",
              "    background-color: var(--disabled-bg-color);\n",
              "    fill: var(--disabled-fill-color);\n",
              "    box-shadow: none;\n",
              "  }\n",
              "\n",
              "  .colab-df-spinner {\n",
              "    border: 2px solid var(--fill-color);\n",
              "    border-color: transparent;\n",
              "    border-bottom-color: var(--fill-color);\n",
              "    animation:\n",
              "      spin 1s steps(1) infinite;\n",
              "  }\n",
              "\n",
              "  @keyframes spin {\n",
              "    0% {\n",
              "      border-color: transparent;\n",
              "      border-bottom-color: var(--fill-color);\n",
              "      border-left-color: var(--fill-color);\n",
              "    }\n",
              "    20% {\n",
              "      border-color: transparent;\n",
              "      border-left-color: var(--fill-color);\n",
              "      border-top-color: var(--fill-color);\n",
              "    }\n",
              "    30% {\n",
              "      border-color: transparent;\n",
              "      border-left-color: var(--fill-color);\n",
              "      border-top-color: var(--fill-color);\n",
              "      border-right-color: var(--fill-color);\n",
              "    }\n",
              "    40% {\n",
              "      border-color: transparent;\n",
              "      border-right-color: var(--fill-color);\n",
              "      border-top-color: var(--fill-color);\n",
              "    }\n",
              "    60% {\n",
              "      border-color: transparent;\n",
              "      border-right-color: var(--fill-color);\n",
              "    }\n",
              "    80% {\n",
              "      border-color: transparent;\n",
              "      border-right-color: var(--fill-color);\n",
              "      border-bottom-color: var(--fill-color);\n",
              "    }\n",
              "    90% {\n",
              "      border-color: transparent;\n",
              "      border-bottom-color: var(--fill-color);\n",
              "    }\n",
              "  }\n",
              "</style>\n",
              "\n",
              "  <script>\n",
              "    async function quickchart(key) {\n",
              "      const quickchartButtonEl =\n",
              "        document.querySelector('#' + key + ' button');\n",
              "      quickchartButtonEl.disabled = true;  // To prevent multiple clicks.\n",
              "      quickchartButtonEl.classList.add('colab-df-spinner');\n",
              "      try {\n",
              "        const charts = await google.colab.kernel.invokeFunction(\n",
              "            'suggestCharts', [key], {});\n",
              "      } catch (error) {\n",
              "        console.error('Error during call to suggestCharts:', error);\n",
              "      }\n",
              "      quickchartButtonEl.classList.remove('colab-df-spinner');\n",
              "      quickchartButtonEl.classList.add('colab-df-quickchart-complete');\n",
              "    }\n",
              "    (() => {\n",
              "      let quickchartButtonEl =\n",
              "        document.querySelector('#df-7c3baf9b-f455-4967-8ede-b8c0eeb59f31 button');\n",
              "      quickchartButtonEl.style.display =\n",
              "        google.colab.kernel.accessAllowed ? 'block' : 'none';\n",
              "    })();\n",
              "  </script>\n",
              "</div>\n",
              "\n",
              "    </div>\n",
              "  </div>\n"
            ],
            "application/vnd.google.colaboratory.intrinsic+json": {
              "type": "dataframe",
              "variable_name": "topics_df",
              "summary": "{\n  \"name\": \"topics_df\",\n  \"rows\": 30,\n  \"fields\": [\n    {\n      \"column\": \"title\",\n      \"properties\": {\n        \"dtype\": \"string\",\n        \"num_unique_values\": 30,\n        \"samples\": [\n          \"C++\",\n          \"Bitcoin\",\n          \"Code quality\"\n        ],\n        \"semantic_type\": \"\",\n        \"description\": \"\"\n      }\n    },\n    {\n      \"column\": \"description\",\n      \"properties\": {\n        \"dtype\": \"string\",\n        \"num_unique_values\": 30,\n        \"samples\": [\n          \"C++ is a general purpose and object-oriented programming language.\",\n          \"Bitcoin is a cryptocurrency developed by Satoshi Nakamoto.\",\n          \"Automate your code review with style, quality, security, and test\\u2011coverage checks when you need them.\"\n        ],\n        \"semantic_type\": \"\",\n        \"description\": \"\"\n      }\n    },\n    {\n      \"column\": \"url\",\n      \"properties\": {\n        \"dtype\": \"string\",\n        \"num_unique_values\": 30,\n        \"samples\": [\n          \"https://github.com/topics/cpp\",\n          \"https://github.com/topics/bitcoin\",\n          \"https://github.com/topics/code-quality\"\n        ],\n        \"semantic_type\": \"\",\n        \"description\": \"\"\n      }\n    }\n  ]\n}"
            }
          },
          "metadata": {},
          "execution_count": 123
        }
      ]
    },
    {
      "cell_type": "code",
      "source": [
        "topics_df.to_csv('topics.csv', index=None)"
      ],
      "metadata": {
        "id": "YPkxroBuX507"
      },
      "execution_count": null,
      "outputs": []
    },
    {
      "cell_type": "markdown",
      "source": [
        "### Information from Topic page"
      ],
      "metadata": {
        "id": "sxqyu2rGjcTQ"
      }
    },
    {
      "cell_type": "code",
      "source": [
        "topic_page_url = topic_urls[0]"
      ],
      "metadata": {
        "id": "d0-3cwAejX0D"
      },
      "execution_count": null,
      "outputs": []
    },
    {
      "cell_type": "code",
      "source": [
        "topic_page_url"
      ],
      "metadata": {
        "colab": {
          "base_uri": "https://localhost:8080/",
          "height": 36
        },
        "id": "z7uFgNucTCOd",
        "outputId": "f4aefc25-944a-44f4-9f13-e7c6536a48f0"
      },
      "execution_count": null,
      "outputs": [
        {
          "output_type": "execute_result",
          "data": {
            "text/plain": [
              "'https://github.com/topics/3d'"
            ],
            "application/vnd.google.colaboratory.intrinsic+json": {
              "type": "string"
            }
          },
          "metadata": {},
          "execution_count": 126
        }
      ]
    },
    {
      "cell_type": "code",
      "source": [
        "response = requests.get(topic_page_url)"
      ],
      "metadata": {
        "id": "ZUOhtaBNTD-y"
      },
      "execution_count": null,
      "outputs": []
    },
    {
      "cell_type": "code",
      "source": [
        "response.status_code"
      ],
      "metadata": {
        "colab": {
          "base_uri": "https://localhost:8080/"
        },
        "id": "sAN3ZcR8TSJK",
        "outputId": "615614bc-3a52-4416-c149-13712be654e8"
      },
      "execution_count": null,
      "outputs": [
        {
          "output_type": "execute_result",
          "data": {
            "text/plain": [
              "200"
            ]
          },
          "metadata": {},
          "execution_count": 128
        }
      ]
    },
    {
      "cell_type": "code",
      "source": [
        "len(response.text)"
      ],
      "metadata": {
        "colab": {
          "base_uri": "https://localhost:8080/"
        },
        "id": "yFDMDQX7TZTk",
        "outputId": "2cedbebd-4f63-4899-81a4-638519969e52"
      },
      "execution_count": null,
      "outputs": [
        {
          "output_type": "execute_result",
          "data": {
            "text/plain": [
              "519346"
            ]
          },
          "metadata": {},
          "execution_count": 129
        }
      ]
    },
    {
      "cell_type": "code",
      "source": [
        "topic_doc = BeautifulSoup(response.text, 'html.parser')"
      ],
      "metadata": {
        "id": "aJS4dBmATde6"
      },
      "execution_count": null,
      "outputs": []
    },
    {
      "cell_type": "code",
      "source": [
        "h3_selection_class = 'f3 color-fg-muted text-normal lh-condensed'\n",
        "repo_tags = topic_doc.find_all('h3',{'class':h3_selection_class})"
      ],
      "metadata": {
        "id": "Qw7rQBefToYt"
      },
      "execution_count": null,
      "outputs": []
    },
    {
      "cell_type": "code",
      "source": [
        "len(repo_tags)"
      ],
      "metadata": {
        "colab": {
          "base_uri": "https://localhost:8080/"
        },
        "id": "tIjMyeU8VM8W",
        "outputId": "a19a0fba-c5b1-4450-eb7c-7be698dd36ea"
      },
      "execution_count": null,
      "outputs": [
        {
          "output_type": "execute_result",
          "data": {
            "text/plain": [
              "20"
            ]
          },
          "metadata": {},
          "execution_count": 132
        }
      ]
    },
    {
      "cell_type": "code",
      "source": [
        "repo_tags[0]"
      ],
      "metadata": {
        "colab": {
          "base_uri": "https://localhost:8080/"
        },
        "id": "ajFQ3s2MVRO7",
        "outputId": "848112cf-c06f-4ea9-bf69-a8dc5d8ae2d0"
      },
      "execution_count": null,
      "outputs": [
        {
          "output_type": "execute_result",
          "data": {
            "text/plain": [
              "<h3 class=\"f3 color-fg-muted text-normal lh-condensed\">\n",
              "<a class=\"Link\" data-hydro-click='{\"event_type\":\"explore.click\",\"payload\":{\"click_context\":\"REPOSITORY_CARD\",\"click_target\":\"OWNER\",\"click_visual_representation\":\"REPOSITORY_OWNER_HEADING\",\"actor_id\":null,\"record_id\":97088,\"originating_url\":\"https://github.com/topics/3d\",\"user_id\":null}}' data-hydro-click-hmac=\"c72fbd5c69a8ee7c9c53a4e65de2b93c8fc7552dd793945819639bc165c0f0ba\" data-turbo=\"false\" data-view-component=\"true\" href=\"/mrdoob\">\n",
              "            mrdoob\n",
              "</a>          /\n",
              "          <a class=\"Link text-bold wb-break-word\" data-hydro-click='{\"event_type\":\"explore.click\",\"payload\":{\"click_context\":\"REPOSITORY_CARD\",\"click_target\":\"REPOSITORY\",\"click_visual_representation\":\"REPOSITORY_NAME_HEADING\",\"actor_id\":null,\"record_id\":576201,\"originating_url\":\"https://github.com/topics/3d\",\"user_id\":null}}' data-hydro-click-hmac=\"4a2667db3d63a1739c412e059e5da95afe419df83f70949b5d59dc3478f5c79a\" data-turbo=\"false\" data-view-component=\"true\" href=\"/mrdoob/three.js\">\n",
              "            three.js\n",
              "</a> </h3>"
            ]
          },
          "metadata": {},
          "execution_count": 133
        }
      ]
    },
    {
      "cell_type": "code",
      "source": [
        "a_tags = repo_tags[0].find_all('a')"
      ],
      "metadata": {
        "id": "vob5gJwjVqtG"
      },
      "execution_count": null,
      "outputs": []
    },
    {
      "cell_type": "code",
      "source": [
        "user = a_tags[0].text.strip()"
      ],
      "metadata": {
        "id": "LETohXxzVxjr"
      },
      "execution_count": null,
      "outputs": []
    },
    {
      "cell_type": "code",
      "source": [
        "user"
      ],
      "metadata": {
        "colab": {
          "base_uri": "https://localhost:8080/",
          "height": 36
        },
        "id": "fi8uyidBH9h7",
        "outputId": "820c8403-5e3d-4138-ab9d-8deb893ad76b"
      },
      "execution_count": null,
      "outputs": [
        {
          "output_type": "execute_result",
          "data": {
            "text/plain": [
              "'mrdoob'"
            ],
            "application/vnd.google.colaboratory.intrinsic+json": {
              "type": "string"
            }
          },
          "metadata": {},
          "execution_count": 136
        }
      ]
    },
    {
      "cell_type": "code",
      "source": [
        "repo = a_tags[1].text.strip()"
      ],
      "metadata": {
        "id": "Fu6INzNpV0rA"
      },
      "execution_count": null,
      "outputs": []
    },
    {
      "cell_type": "code",
      "source": [
        "base_url = 'https://github.com'\n",
        "final_url = base_url + a_tags[1]['href']\n",
        "final_url"
      ],
      "metadata": {
        "colab": {
          "base_uri": "https://localhost:8080/",
          "height": 36
        },
        "id": "A8j9GeqKWEeB",
        "outputId": "7a8fdac6-7679-4699-b05c-1cd9813c1549"
      },
      "execution_count": null,
      "outputs": [
        {
          "output_type": "execute_result",
          "data": {
            "text/plain": [
              "'https://github.com/mrdoob/three.js'"
            ],
            "application/vnd.google.colaboratory.intrinsic+json": {
              "type": "string"
            }
          },
          "metadata": {},
          "execution_count": 138
        }
      ]
    },
    {
      "cell_type": "code",
      "source": [
        "star_tags = topic_doc.find_all('span',{'class':'Counter js-social-count'})\n",
        "len(star_tags)"
      ],
      "metadata": {
        "colab": {
          "base_uri": "https://localhost:8080/"
        },
        "id": "0m3422esWPqe",
        "outputId": "a9c1a3ed-9f47-45d6-b8d0-4eb9792bf327"
      },
      "execution_count": null,
      "outputs": [
        {
          "output_type": "execute_result",
          "data": {
            "text/plain": [
              "20"
            ]
          },
          "metadata": {},
          "execution_count": 139
        }
      ]
    },
    {
      "cell_type": "code",
      "source": [
        "star_tags[0].text"
      ],
      "metadata": {
        "colab": {
          "base_uri": "https://localhost:8080/",
          "height": 36
        },
        "id": "jfaoq2ZhlaYE",
        "outputId": "3be388e7-636f-4c55-9e1a-04d42de6f26a"
      },
      "execution_count": null,
      "outputs": [
        {
          "output_type": "execute_result",
          "data": {
            "text/plain": [
              "'101k'"
            ],
            "application/vnd.google.colaboratory.intrinsic+json": {
              "type": "string"
            }
          },
          "metadata": {},
          "execution_count": 140
        }
      ]
    },
    {
      "cell_type": "code",
      "source": [
        "def parse_star(stars_str):\n",
        "  stars_str = stars_str.strip()\n",
        "  if stars_str[-1] == 'k':\n",
        "    return int(float(stars_str[:-1]) * 1000)\n",
        "  return int(stars_str)"
      ],
      "metadata": {
        "id": "nqNFvSnqlpYW"
      },
      "execution_count": null,
      "outputs": []
    },
    {
      "cell_type": "code",
      "source": [
        "parse_star(star_tags[0].text.strip())"
      ],
      "metadata": {
        "colab": {
          "base_uri": "https://localhost:8080/"
        },
        "id": "AOman8YpmtgF",
        "outputId": "318a43a7-e9c4-4c02-a5b6-8907900c710d"
      },
      "execution_count": null,
      "outputs": [
        {
          "output_type": "execute_result",
          "data": {
            "text/plain": [
              "101000"
            ]
          },
          "metadata": {},
          "execution_count": 142
        }
      ]
    },
    {
      "cell_type": "code",
      "source": [
        "def get_repo_info(repo_tag, star_tag):\n",
        "  a_tags = repo_tag.find_all('a')\n",
        "  username = a_tags[0].text.strip()\n",
        "  repo_name = a_tags[1].text.strip()\n",
        "  repo_url = base_url + a_tags[1]['href']\n",
        "  stars = parse_star(star_tag.text.strip())\n",
        "  return username, repo_name, stars, repo_url"
      ],
      "metadata": {
        "id": "EHREmyJsnBGt"
      },
      "execution_count": null,
      "outputs": []
    },
    {
      "cell_type": "code",
      "source": [
        "get_repo_info(repo_tags[0], star_tags[0])"
      ],
      "metadata": {
        "colab": {
          "base_uri": "https://localhost:8080/"
        },
        "id": "hqDQMTWvpKR1",
        "outputId": "9b5c65e6-ca9f-4a33-a7e4-aa9d004bfc66"
      },
      "execution_count": null,
      "outputs": [
        {
          "output_type": "execute_result",
          "data": {
            "text/plain": [
              "('mrdoob', 'three.js', 101000, 'https://github.com/mrdoob/three.js')"
            ]
          },
          "metadata": {},
          "execution_count": 144
        }
      ]
    },
    {
      "cell_type": "code",
      "source": [
        "topic_repo_dict = {\n",
        "    'username' : [],\n",
        "    'repo_name' : [],\n",
        "    'stars' : [],\n",
        "    'repo_url' : []\n",
        "}\n",
        "\n",
        "for i in range(len(repo_tags)):\n",
        "  repo_info = get_repo_info(repo_tags[i], star_tags[i])\n",
        "  topic_repo_dict['username'].append(repo_info[0])\n",
        "  topic_repo_dict['repo_name'].append(repo_info[1])\n",
        "  topic_repo_dict['stars'].append(repo_info[2])\n",
        "  topic_repo_dict['repo_url'].append(repo_info[3])"
      ],
      "metadata": {
        "id": "gLLUxVZLr6cW"
      },
      "execution_count": null,
      "outputs": []
    },
    {
      "cell_type": "code",
      "source": [
        "topic_repo_dict"
      ],
      "metadata": {
        "colab": {
          "base_uri": "https://localhost:8080/"
        },
        "id": "TrRZV9IAKQoR",
        "outputId": "87c17521-5802-473e-91d0-5a1eac80001b"
      },
      "execution_count": null,
      "outputs": [
        {
          "output_type": "execute_result",
          "data": {
            "text/plain": [
              "{'username': ['mrdoob',\n",
              "  'pmndrs',\n",
              "  'libgdx',\n",
              "  'BabylonJS',\n",
              "  'ssloy',\n",
              "  'FreeCAD',\n",
              "  'lettier',\n",
              "  'aframevr',\n",
              "  'CesiumGS',\n",
              "  'blender',\n",
              "  'MonoGame',\n",
              "  'mapbox',\n",
              "  'isl-org',\n",
              "  'metafizzy',\n",
              "  'timzhang642',\n",
              "  'nerfstudio-project',\n",
              "  '4ian',\n",
              "  'a1studmuffin',\n",
              "  'FyroxEngine',\n",
              "  'domlysz'],\n",
              " 'repo_name': ['three.js',\n",
              "  'react-three-fiber',\n",
              "  'libgdx',\n",
              "  'Babylon.js',\n",
              "  'tinyrenderer',\n",
              "  'FreeCAD',\n",
              "  '3d-game-shaders-for-beginners',\n",
              "  'aframe',\n",
              "  'cesium',\n",
              "  'blender',\n",
              "  'MonoGame',\n",
              "  'mapbox-gl-js',\n",
              "  'Open3D',\n",
              "  'zdog',\n",
              "  '3D-Machine-Learning',\n",
              "  'nerfstudio',\n",
              "  'GDevelop',\n",
              "  'SpaceshipGenerator',\n",
              "  'Fyrox',\n",
              "  'BlenderGIS'],\n",
              " 'stars': [101000,\n",
              "  26800,\n",
              "  23000,\n",
              "  22800,\n",
              "  19900,\n",
              "  18400,\n",
              "  17500,\n",
              "  16500,\n",
              "  12500,\n",
              "  12300,\n",
              "  11100,\n",
              "  10900,\n",
              "  10900,\n",
              "  10300,\n",
              "  9600,\n",
              "  9000,\n",
              "  8000,\n",
              "  7600,\n",
              "  7500,\n",
              "  7500],\n",
              " 'repo_url': ['https://github.com/mrdoob/three.js',\n",
              "  'https://github.com/pmndrs/react-three-fiber',\n",
              "  'https://github.com/libgdx/libgdx',\n",
              "  'https://github.com/BabylonJS/Babylon.js',\n",
              "  'https://github.com/ssloy/tinyrenderer',\n",
              "  'https://github.com/FreeCAD/FreeCAD',\n",
              "  'https://github.com/lettier/3d-game-shaders-for-beginners',\n",
              "  'https://github.com/aframevr/aframe',\n",
              "  'https://github.com/CesiumGS/cesium',\n",
              "  'https://github.com/blender/blender',\n",
              "  'https://github.com/MonoGame/MonoGame',\n",
              "  'https://github.com/mapbox/mapbox-gl-js',\n",
              "  'https://github.com/isl-org/Open3D',\n",
              "  'https://github.com/metafizzy/zdog',\n",
              "  'https://github.com/timzhang642/3D-Machine-Learning',\n",
              "  'https://github.com/nerfstudio-project/nerfstudio',\n",
              "  'https://github.com/4ian/GDevelop',\n",
              "  'https://github.com/a1studmuffin/SpaceshipGenerator',\n",
              "  'https://github.com/FyroxEngine/Fyrox',\n",
              "  'https://github.com/domlysz/BlenderGIS']}"
            ]
          },
          "metadata": {},
          "execution_count": 146
        }
      ]
    },
    {
      "cell_type": "code",
      "source": [
        "topic_repo_df = pd.DataFrame(topic_repo_dict)"
      ],
      "metadata": {
        "id": "LbS9chU8KSZu"
      },
      "execution_count": null,
      "outputs": []
    },
    {
      "cell_type": "code",
      "source": [
        "topic_repo_df"
      ],
      "metadata": {
        "colab": {
          "base_uri": "https://localhost:8080/",
          "height": 676
        },
        "id": "qBqluBEZPgoG",
        "outputId": "5a091d0b-2fed-4dc7-9b35-de8ce6b23301"
      },
      "execution_count": null,
      "outputs": [
        {
          "output_type": "execute_result",
          "data": {
            "text/plain": [
              "              username                      repo_name   stars  \\\n",
              "0               mrdoob                       three.js  101000   \n",
              "1               pmndrs              react-three-fiber   26800   \n",
              "2               libgdx                         libgdx   23000   \n",
              "3            BabylonJS                     Babylon.js   22800   \n",
              "4                ssloy                   tinyrenderer   19900   \n",
              "5              FreeCAD                        FreeCAD   18400   \n",
              "6              lettier  3d-game-shaders-for-beginners   17500   \n",
              "7             aframevr                         aframe   16500   \n",
              "8             CesiumGS                         cesium   12500   \n",
              "9              blender                        blender   12300   \n",
              "10            MonoGame                       MonoGame   11100   \n",
              "11              mapbox                   mapbox-gl-js   10900   \n",
              "12             isl-org                         Open3D   10900   \n",
              "13           metafizzy                           zdog   10300   \n",
              "14         timzhang642            3D-Machine-Learning    9600   \n",
              "15  nerfstudio-project                     nerfstudio    9000   \n",
              "16                4ian                       GDevelop    8000   \n",
              "17        a1studmuffin             SpaceshipGenerator    7600   \n",
              "18         FyroxEngine                          Fyrox    7500   \n",
              "19             domlysz                     BlenderGIS    7500   \n",
              "\n",
              "                                             repo_url  \n",
              "0                  https://github.com/mrdoob/three.js  \n",
              "1         https://github.com/pmndrs/react-three-fiber  \n",
              "2                    https://github.com/libgdx/libgdx  \n",
              "3             https://github.com/BabylonJS/Babylon.js  \n",
              "4               https://github.com/ssloy/tinyrenderer  \n",
              "5                  https://github.com/FreeCAD/FreeCAD  \n",
              "6   https://github.com/lettier/3d-game-shaders-for...  \n",
              "7                  https://github.com/aframevr/aframe  \n",
              "8                  https://github.com/CesiumGS/cesium  \n",
              "9                  https://github.com/blender/blender  \n",
              "10               https://github.com/MonoGame/MonoGame  \n",
              "11             https://github.com/mapbox/mapbox-gl-js  \n",
              "12                  https://github.com/isl-org/Open3D  \n",
              "13                  https://github.com/metafizzy/zdog  \n",
              "14  https://github.com/timzhang642/3D-Machine-Lear...  \n",
              "15   https://github.com/nerfstudio-project/nerfstudio  \n",
              "16                   https://github.com/4ian/GDevelop  \n",
              "17  https://github.com/a1studmuffin/SpaceshipGener...  \n",
              "18               https://github.com/FyroxEngine/Fyrox  \n",
              "19              https://github.com/domlysz/BlenderGIS  "
            ],
            "text/html": [
              "\n",
              "  <div id=\"df-5f86587a-5eaa-49e0-82db-c3f27fd809f1\" class=\"colab-df-container\">\n",
              "    <div>\n",
              "<style scoped>\n",
              "    .dataframe tbody tr th:only-of-type {\n",
              "        vertical-align: middle;\n",
              "    }\n",
              "\n",
              "    .dataframe tbody tr th {\n",
              "        vertical-align: top;\n",
              "    }\n",
              "\n",
              "    .dataframe thead th {\n",
              "        text-align: right;\n",
              "    }\n",
              "</style>\n",
              "<table border=\"1\" class=\"dataframe\">\n",
              "  <thead>\n",
              "    <tr style=\"text-align: right;\">\n",
              "      <th></th>\n",
              "      <th>username</th>\n",
              "      <th>repo_name</th>\n",
              "      <th>stars</th>\n",
              "      <th>repo_url</th>\n",
              "    </tr>\n",
              "  </thead>\n",
              "  <tbody>\n",
              "    <tr>\n",
              "      <th>0</th>\n",
              "      <td>mrdoob</td>\n",
              "      <td>three.js</td>\n",
              "      <td>101000</td>\n",
              "      <td>https://github.com/mrdoob/three.js</td>\n",
              "    </tr>\n",
              "    <tr>\n",
              "      <th>1</th>\n",
              "      <td>pmndrs</td>\n",
              "      <td>react-three-fiber</td>\n",
              "      <td>26800</td>\n",
              "      <td>https://github.com/pmndrs/react-three-fiber</td>\n",
              "    </tr>\n",
              "    <tr>\n",
              "      <th>2</th>\n",
              "      <td>libgdx</td>\n",
              "      <td>libgdx</td>\n",
              "      <td>23000</td>\n",
              "      <td>https://github.com/libgdx/libgdx</td>\n",
              "    </tr>\n",
              "    <tr>\n",
              "      <th>3</th>\n",
              "      <td>BabylonJS</td>\n",
              "      <td>Babylon.js</td>\n",
              "      <td>22800</td>\n",
              "      <td>https://github.com/BabylonJS/Babylon.js</td>\n",
              "    </tr>\n",
              "    <tr>\n",
              "      <th>4</th>\n",
              "      <td>ssloy</td>\n",
              "      <td>tinyrenderer</td>\n",
              "      <td>19900</td>\n",
              "      <td>https://github.com/ssloy/tinyrenderer</td>\n",
              "    </tr>\n",
              "    <tr>\n",
              "      <th>5</th>\n",
              "      <td>FreeCAD</td>\n",
              "      <td>FreeCAD</td>\n",
              "      <td>18400</td>\n",
              "      <td>https://github.com/FreeCAD/FreeCAD</td>\n",
              "    </tr>\n",
              "    <tr>\n",
              "      <th>6</th>\n",
              "      <td>lettier</td>\n",
              "      <td>3d-game-shaders-for-beginners</td>\n",
              "      <td>17500</td>\n",
              "      <td>https://github.com/lettier/3d-game-shaders-for...</td>\n",
              "    </tr>\n",
              "    <tr>\n",
              "      <th>7</th>\n",
              "      <td>aframevr</td>\n",
              "      <td>aframe</td>\n",
              "      <td>16500</td>\n",
              "      <td>https://github.com/aframevr/aframe</td>\n",
              "    </tr>\n",
              "    <tr>\n",
              "      <th>8</th>\n",
              "      <td>CesiumGS</td>\n",
              "      <td>cesium</td>\n",
              "      <td>12500</td>\n",
              "      <td>https://github.com/CesiumGS/cesium</td>\n",
              "    </tr>\n",
              "    <tr>\n",
              "      <th>9</th>\n",
              "      <td>blender</td>\n",
              "      <td>blender</td>\n",
              "      <td>12300</td>\n",
              "      <td>https://github.com/blender/blender</td>\n",
              "    </tr>\n",
              "    <tr>\n",
              "      <th>10</th>\n",
              "      <td>MonoGame</td>\n",
              "      <td>MonoGame</td>\n",
              "      <td>11100</td>\n",
              "      <td>https://github.com/MonoGame/MonoGame</td>\n",
              "    </tr>\n",
              "    <tr>\n",
              "      <th>11</th>\n",
              "      <td>mapbox</td>\n",
              "      <td>mapbox-gl-js</td>\n",
              "      <td>10900</td>\n",
              "      <td>https://github.com/mapbox/mapbox-gl-js</td>\n",
              "    </tr>\n",
              "    <tr>\n",
              "      <th>12</th>\n",
              "      <td>isl-org</td>\n",
              "      <td>Open3D</td>\n",
              "      <td>10900</td>\n",
              "      <td>https://github.com/isl-org/Open3D</td>\n",
              "    </tr>\n",
              "    <tr>\n",
              "      <th>13</th>\n",
              "      <td>metafizzy</td>\n",
              "      <td>zdog</td>\n",
              "      <td>10300</td>\n",
              "      <td>https://github.com/metafizzy/zdog</td>\n",
              "    </tr>\n",
              "    <tr>\n",
              "      <th>14</th>\n",
              "      <td>timzhang642</td>\n",
              "      <td>3D-Machine-Learning</td>\n",
              "      <td>9600</td>\n",
              "      <td>https://github.com/timzhang642/3D-Machine-Lear...</td>\n",
              "    </tr>\n",
              "    <tr>\n",
              "      <th>15</th>\n",
              "      <td>nerfstudio-project</td>\n",
              "      <td>nerfstudio</td>\n",
              "      <td>9000</td>\n",
              "      <td>https://github.com/nerfstudio-project/nerfstudio</td>\n",
              "    </tr>\n",
              "    <tr>\n",
              "      <th>16</th>\n",
              "      <td>4ian</td>\n",
              "      <td>GDevelop</td>\n",
              "      <td>8000</td>\n",
              "      <td>https://github.com/4ian/GDevelop</td>\n",
              "    </tr>\n",
              "    <tr>\n",
              "      <th>17</th>\n",
              "      <td>a1studmuffin</td>\n",
              "      <td>SpaceshipGenerator</td>\n",
              "      <td>7600</td>\n",
              "      <td>https://github.com/a1studmuffin/SpaceshipGener...</td>\n",
              "    </tr>\n",
              "    <tr>\n",
              "      <th>18</th>\n",
              "      <td>FyroxEngine</td>\n",
              "      <td>Fyrox</td>\n",
              "      <td>7500</td>\n",
              "      <td>https://github.com/FyroxEngine/Fyrox</td>\n",
              "    </tr>\n",
              "    <tr>\n",
              "      <th>19</th>\n",
              "      <td>domlysz</td>\n",
              "      <td>BlenderGIS</td>\n",
              "      <td>7500</td>\n",
              "      <td>https://github.com/domlysz/BlenderGIS</td>\n",
              "    </tr>\n",
              "  </tbody>\n",
              "</table>\n",
              "</div>\n",
              "    <div class=\"colab-df-buttons\">\n",
              "\n",
              "  <div class=\"colab-df-container\">\n",
              "    <button class=\"colab-df-convert\" onclick=\"convertToInteractive('df-5f86587a-5eaa-49e0-82db-c3f27fd809f1')\"\n",
              "            title=\"Convert this dataframe to an interactive table.\"\n",
              "            style=\"display:none;\">\n",
              "\n",
              "  <svg xmlns=\"http://www.w3.org/2000/svg\" height=\"24px\" viewBox=\"0 -960 960 960\">\n",
              "    <path d=\"M120-120v-720h720v720H120Zm60-500h600v-160H180v160Zm220 220h160v-160H400v160Zm0 220h160v-160H400v160ZM180-400h160v-160H180v160Zm440 0h160v-160H620v160ZM180-180h160v-160H180v160Zm440 0h160v-160H620v160Z\"/>\n",
              "  </svg>\n",
              "    </button>\n",
              "\n",
              "  <style>\n",
              "    .colab-df-container {\n",
              "      display:flex;\n",
              "      gap: 12px;\n",
              "    }\n",
              "\n",
              "    .colab-df-convert {\n",
              "      background-color: #E8F0FE;\n",
              "      border: none;\n",
              "      border-radius: 50%;\n",
              "      cursor: pointer;\n",
              "      display: none;\n",
              "      fill: #1967D2;\n",
              "      height: 32px;\n",
              "      padding: 0 0 0 0;\n",
              "      width: 32px;\n",
              "    }\n",
              "\n",
              "    .colab-df-convert:hover {\n",
              "      background-color: #E2EBFA;\n",
              "      box-shadow: 0px 1px 2px rgba(60, 64, 67, 0.3), 0px 1px 3px 1px rgba(60, 64, 67, 0.15);\n",
              "      fill: #174EA6;\n",
              "    }\n",
              "\n",
              "    .colab-df-buttons div {\n",
              "      margin-bottom: 4px;\n",
              "    }\n",
              "\n",
              "    [theme=dark] .colab-df-convert {\n",
              "      background-color: #3B4455;\n",
              "      fill: #D2E3FC;\n",
              "    }\n",
              "\n",
              "    [theme=dark] .colab-df-convert:hover {\n",
              "      background-color: #434B5C;\n",
              "      box-shadow: 0px 1px 3px 1px rgba(0, 0, 0, 0.15);\n",
              "      filter: drop-shadow(0px 1px 2px rgba(0, 0, 0, 0.3));\n",
              "      fill: #FFFFFF;\n",
              "    }\n",
              "  </style>\n",
              "\n",
              "    <script>\n",
              "      const buttonEl =\n",
              "        document.querySelector('#df-5f86587a-5eaa-49e0-82db-c3f27fd809f1 button.colab-df-convert');\n",
              "      buttonEl.style.display =\n",
              "        google.colab.kernel.accessAllowed ? 'block' : 'none';\n",
              "\n",
              "      async function convertToInteractive(key) {\n",
              "        const element = document.querySelector('#df-5f86587a-5eaa-49e0-82db-c3f27fd809f1');\n",
              "        const dataTable =\n",
              "          await google.colab.kernel.invokeFunction('convertToInteractive',\n",
              "                                                    [key], {});\n",
              "        if (!dataTable) return;\n",
              "\n",
              "        const docLinkHtml = 'Like what you see? Visit the ' +\n",
              "          '<a target=\"_blank\" href=https://colab.research.google.com/notebooks/data_table.ipynb>data table notebook</a>'\n",
              "          + ' to learn more about interactive tables.';\n",
              "        element.innerHTML = '';\n",
              "        dataTable['output_type'] = 'display_data';\n",
              "        await google.colab.output.renderOutput(dataTable, element);\n",
              "        const docLink = document.createElement('div');\n",
              "        docLink.innerHTML = docLinkHtml;\n",
              "        element.appendChild(docLink);\n",
              "      }\n",
              "    </script>\n",
              "  </div>\n",
              "\n",
              "\n",
              "<div id=\"df-dca3f6d7-934b-40bf-a4f0-a29e1637b917\">\n",
              "  <button class=\"colab-df-quickchart\" onclick=\"quickchart('df-dca3f6d7-934b-40bf-a4f0-a29e1637b917')\"\n",
              "            title=\"Suggest charts\"\n",
              "            style=\"display:none;\">\n",
              "\n",
              "<svg xmlns=\"http://www.w3.org/2000/svg\" height=\"24px\"viewBox=\"0 0 24 24\"\n",
              "     width=\"24px\">\n",
              "    <g>\n",
              "        <path d=\"M19 3H5c-1.1 0-2 .9-2 2v14c0 1.1.9 2 2 2h14c1.1 0 2-.9 2-2V5c0-1.1-.9-2-2-2zM9 17H7v-7h2v7zm4 0h-2V7h2v10zm4 0h-2v-4h2v4z\"/>\n",
              "    </g>\n",
              "</svg>\n",
              "  </button>\n",
              "\n",
              "<style>\n",
              "  .colab-df-quickchart {\n",
              "      --bg-color: #E8F0FE;\n",
              "      --fill-color: #1967D2;\n",
              "      --hover-bg-color: #E2EBFA;\n",
              "      --hover-fill-color: #174EA6;\n",
              "      --disabled-fill-color: #AAA;\n",
              "      --disabled-bg-color: #DDD;\n",
              "  }\n",
              "\n",
              "  [theme=dark] .colab-df-quickchart {\n",
              "      --bg-color: #3B4455;\n",
              "      --fill-color: #D2E3FC;\n",
              "      --hover-bg-color: #434B5C;\n",
              "      --hover-fill-color: #FFFFFF;\n",
              "      --disabled-bg-color: #3B4455;\n",
              "      --disabled-fill-color: #666;\n",
              "  }\n",
              "\n",
              "  .colab-df-quickchart {\n",
              "    background-color: var(--bg-color);\n",
              "    border: none;\n",
              "    border-radius: 50%;\n",
              "    cursor: pointer;\n",
              "    display: none;\n",
              "    fill: var(--fill-color);\n",
              "    height: 32px;\n",
              "    padding: 0;\n",
              "    width: 32px;\n",
              "  }\n",
              "\n",
              "  .colab-df-quickchart:hover {\n",
              "    background-color: var(--hover-bg-color);\n",
              "    box-shadow: 0 1px 2px rgba(60, 64, 67, 0.3), 0 1px 3px 1px rgba(60, 64, 67, 0.15);\n",
              "    fill: var(--button-hover-fill-color);\n",
              "  }\n",
              "\n",
              "  .colab-df-quickchart-complete:disabled,\n",
              "  .colab-df-quickchart-complete:disabled:hover {\n",
              "    background-color: var(--disabled-bg-color);\n",
              "    fill: var(--disabled-fill-color);\n",
              "    box-shadow: none;\n",
              "  }\n",
              "\n",
              "  .colab-df-spinner {\n",
              "    border: 2px solid var(--fill-color);\n",
              "    border-color: transparent;\n",
              "    border-bottom-color: var(--fill-color);\n",
              "    animation:\n",
              "      spin 1s steps(1) infinite;\n",
              "  }\n",
              "\n",
              "  @keyframes spin {\n",
              "    0% {\n",
              "      border-color: transparent;\n",
              "      border-bottom-color: var(--fill-color);\n",
              "      border-left-color: var(--fill-color);\n",
              "    }\n",
              "    20% {\n",
              "      border-color: transparent;\n",
              "      border-left-color: var(--fill-color);\n",
              "      border-top-color: var(--fill-color);\n",
              "    }\n",
              "    30% {\n",
              "      border-color: transparent;\n",
              "      border-left-color: var(--fill-color);\n",
              "      border-top-color: var(--fill-color);\n",
              "      border-right-color: var(--fill-color);\n",
              "    }\n",
              "    40% {\n",
              "      border-color: transparent;\n",
              "      border-right-color: var(--fill-color);\n",
              "      border-top-color: var(--fill-color);\n",
              "    }\n",
              "    60% {\n",
              "      border-color: transparent;\n",
              "      border-right-color: var(--fill-color);\n",
              "    }\n",
              "    80% {\n",
              "      border-color: transparent;\n",
              "      border-right-color: var(--fill-color);\n",
              "      border-bottom-color: var(--fill-color);\n",
              "    }\n",
              "    90% {\n",
              "      border-color: transparent;\n",
              "      border-bottom-color: var(--fill-color);\n",
              "    }\n",
              "  }\n",
              "</style>\n",
              "\n",
              "  <script>\n",
              "    async function quickchart(key) {\n",
              "      const quickchartButtonEl =\n",
              "        document.querySelector('#' + key + ' button');\n",
              "      quickchartButtonEl.disabled = true;  // To prevent multiple clicks.\n",
              "      quickchartButtonEl.classList.add('colab-df-spinner');\n",
              "      try {\n",
              "        const charts = await google.colab.kernel.invokeFunction(\n",
              "            'suggestCharts', [key], {});\n",
              "      } catch (error) {\n",
              "        console.error('Error during call to suggestCharts:', error);\n",
              "      }\n",
              "      quickchartButtonEl.classList.remove('colab-df-spinner');\n",
              "      quickchartButtonEl.classList.add('colab-df-quickchart-complete');\n",
              "    }\n",
              "    (() => {\n",
              "      let quickchartButtonEl =\n",
              "        document.querySelector('#df-dca3f6d7-934b-40bf-a4f0-a29e1637b917 button');\n",
              "      quickchartButtonEl.style.display =\n",
              "        google.colab.kernel.accessAllowed ? 'block' : 'none';\n",
              "    })();\n",
              "  </script>\n",
              "</div>\n",
              "\n",
              "  <div id=\"id_dbcb8ab2-17ed-4186-856b-0eec18dfa116\">\n",
              "    <style>\n",
              "      .colab-df-generate {\n",
              "        background-color: #E8F0FE;\n",
              "        border: none;\n",
              "        border-radius: 50%;\n",
              "        cursor: pointer;\n",
              "        display: none;\n",
              "        fill: #1967D2;\n",
              "        height: 32px;\n",
              "        padding: 0 0 0 0;\n",
              "        width: 32px;\n",
              "      }\n",
              "\n",
              "      .colab-df-generate:hover {\n",
              "        background-color: #E2EBFA;\n",
              "        box-shadow: 0px 1px 2px rgba(60, 64, 67, 0.3), 0px 1px 3px 1px rgba(60, 64, 67, 0.15);\n",
              "        fill: #174EA6;\n",
              "      }\n",
              "\n",
              "      [theme=dark] .colab-df-generate {\n",
              "        background-color: #3B4455;\n",
              "        fill: #D2E3FC;\n",
              "      }\n",
              "\n",
              "      [theme=dark] .colab-df-generate:hover {\n",
              "        background-color: #434B5C;\n",
              "        box-shadow: 0px 1px 3px 1px rgba(0, 0, 0, 0.15);\n",
              "        filter: drop-shadow(0px 1px 2px rgba(0, 0, 0, 0.3));\n",
              "        fill: #FFFFFF;\n",
              "      }\n",
              "    </style>\n",
              "    <button class=\"colab-df-generate\" onclick=\"generateWithVariable('topic_repo_df')\"\n",
              "            title=\"Generate code using this dataframe.\"\n",
              "            style=\"display:none;\">\n",
              "\n",
              "  <svg xmlns=\"http://www.w3.org/2000/svg\" height=\"24px\"viewBox=\"0 0 24 24\"\n",
              "       width=\"24px\">\n",
              "    <path d=\"M7,19H8.4L18.45,9,17,7.55,7,17.6ZM5,21V16.75L18.45,3.32a2,2,0,0,1,2.83,0l1.4,1.43a1.91,1.91,0,0,1,.58,1.4,1.91,1.91,0,0,1-.58,1.4L9.25,21ZM18.45,9,17,7.55Zm-12,3A5.31,5.31,0,0,0,4.9,8.1,5.31,5.31,0,0,0,1,6.5,5.31,5.31,0,0,0,4.9,4.9,5.31,5.31,0,0,0,6.5,1,5.31,5.31,0,0,0,8.1,4.9,5.31,5.31,0,0,0,12,6.5,5.46,5.46,0,0,0,6.5,12Z\"/>\n",
              "  </svg>\n",
              "    </button>\n",
              "    <script>\n",
              "      (() => {\n",
              "      const buttonEl =\n",
              "        document.querySelector('#id_dbcb8ab2-17ed-4186-856b-0eec18dfa116 button.colab-df-generate');\n",
              "      buttonEl.style.display =\n",
              "        google.colab.kernel.accessAllowed ? 'block' : 'none';\n",
              "\n",
              "      buttonEl.onclick = () => {\n",
              "        google.colab.notebook.generateWithVariable('topic_repo_df');\n",
              "      }\n",
              "      })();\n",
              "    </script>\n",
              "  </div>\n",
              "\n",
              "    </div>\n",
              "  </div>\n"
            ],
            "application/vnd.google.colaboratory.intrinsic+json": {
              "type": "dataframe",
              "variable_name": "topic_repo_df",
              "summary": "{\n  \"name\": \"topic_repo_df\",\n  \"rows\": 20,\n  \"fields\": [\n    {\n      \"column\": \"username\",\n      \"properties\": {\n        \"dtype\": \"string\",\n        \"num_unique_values\": 20,\n        \"samples\": [\n          \"mrdoob\",\n          \"a1studmuffin\",\n          \"nerfstudio-project\"\n        ],\n        \"semantic_type\": \"\",\n        \"description\": \"\"\n      }\n    },\n    {\n      \"column\": \"repo_name\",\n      \"properties\": {\n        \"dtype\": \"string\",\n        \"num_unique_values\": 20,\n        \"samples\": [\n          \"three.js\",\n          \"SpaceshipGenerator\",\n          \"nerfstudio\"\n        ],\n        \"semantic_type\": \"\",\n        \"description\": \"\"\n      }\n    },\n    {\n      \"column\": \"stars\",\n      \"properties\": {\n        \"dtype\": \"number\",\n        \"std\": 20353,\n        \"min\": 7500,\n        \"max\": 101000,\n        \"num_unique_values\": 18,\n        \"samples\": [\n          101000,\n          26800,\n          12500\n        ],\n        \"semantic_type\": \"\",\n        \"description\": \"\"\n      }\n    },\n    {\n      \"column\": \"repo_url\",\n      \"properties\": {\n        \"dtype\": \"string\",\n        \"num_unique_values\": 20,\n        \"samples\": [\n          \"https://github.com/mrdoob/three.js\",\n          \"https://github.com/a1studmuffin/SpaceshipGenerator\",\n          \"https://github.com/nerfstudio-project/nerfstudio\"\n        ],\n        \"semantic_type\": \"\",\n        \"description\": \"\"\n      }\n    }\n  ]\n}"
            }
          },
          "metadata": {},
          "execution_count": 148
        }
      ]
    },
    {
      "cell_type": "code",
      "source": [
        "import os\n",
        "\n",
        "def get_topic_page(topic_url):\n",
        "  # Download the page\n",
        "  response = requests.get(topic_url)\n",
        "  #check successful response\n",
        "  if response.status_code != 200:\n",
        "    raise Exception('Failed to load page {}'.format(topic_url))\n",
        "  #Parse using Beautiful Soup\n",
        "  topic_doc = BeautifulSoup(response.text, 'html.parser')\n",
        "  return topic_doc\n",
        "\n",
        "def get_repo_info(repo_tag, star_tag):\n",
        "  #returns all the required info about a respository\n",
        "  a_tags = repo_tag.find_all('a')\n",
        "  username = a_tags[0].text.strip()\n",
        "  repo_name = a_tags[1].text.strip()\n",
        "  repo_url = base_url + a_tags[1]['href']\n",
        "  stars = parse_star(star_tag.text.strip())\n",
        "  return username, repo_name, stars, repo_url\n",
        "\n",
        "def get_topic_repos(topic_doc):\n",
        "  #get the h3 tags containing repo title, repo URL and username\n",
        "  h3_selection_class = 'f3 color-fg-muted text-normal lh-condensed'\n",
        "  repo_tags = topic_doc.find_all('h3',{'class':h3_selection_class})\n",
        "  #get star tags\n",
        "  star_tags = topic_doc.find_all('span',{'class':'Counter js-social-count'})\n",
        "\n",
        "  topic_repo_dict = {\n",
        "    'username' : [],\n",
        "    'repo_name' : [],\n",
        "    'stars' : [],\n",
        "    'repo_url' : []\n",
        "  }\n",
        "\n",
        "  #get repo info\n",
        "  for i in range(len(repo_tags)):\n",
        "    repo_info = get_repo_info(repo_tags[i], star_tags[i])\n",
        "    topic_repo_dict['username'].append(repo_info[0])\n",
        "    topic_repo_dict['repo_name'].append(repo_info[1])\n",
        "    topic_repo_dict['stars'].append(repo_info[2])\n",
        "    topic_repo_dict['repo_url'].append(repo_info[3])\n",
        "\n",
        "  return pd.DataFrame(topic_repo_dict)\n",
        "\n",
        "def scrape_topic(topic_url,topic_name):\n",
        "  fname = topic_name + '.csv'\n",
        "  if os.path.exists(fname):\n",
        "    print('The file {} already exists. Skipping...'.format(fname))\n",
        "    return\n",
        "  topic_df = get_topic_repos(get_topic_page(topic_url))\n",
        "  topic_df.to_csv(fname, index=None)"
      ],
      "metadata": {
        "id": "6kDwENF0PinY"
      },
      "execution_count": null,
      "outputs": []
    },
    {
      "cell_type": "code",
      "source": [
        "#topic_urls[4]"
      ],
      "metadata": {
        "id": "k-_OpsOOU4NB"
      },
      "execution_count": null,
      "outputs": []
    },
    {
      "cell_type": "code",
      "source": [
        "#get_topic_repos(get_topic_page(topic_urls[4]))"
      ],
      "metadata": {
        "id": "tVgrKv9VUjIV"
      },
      "execution_count": null,
      "outputs": []
    },
    {
      "cell_type": "code",
      "source": [
        "url4 = topic_urls[4]"
      ],
      "metadata": {
        "id": "2DS5I0S_SJqW"
      },
      "execution_count": null,
      "outputs": []
    },
    {
      "cell_type": "code",
      "source": [
        "url4"
      ],
      "metadata": {
        "colab": {
          "base_uri": "https://localhost:8080/",
          "height": 36
        },
        "id": "0eyzqtr0TbYi",
        "outputId": "9d553552-e164-4c59-a0d4-f67a1405c6ef"
      },
      "execution_count": null,
      "outputs": [
        {
          "output_type": "execute_result",
          "data": {
            "text/plain": [
              "'https://github.com/topics/android'"
            ],
            "application/vnd.google.colaboratory.intrinsic+json": {
              "type": "string"
            }
          },
          "metadata": {},
          "execution_count": 153
        }
      ]
    },
    {
      "cell_type": "code",
      "source": [
        "topic4_doc = get_topic_page(url4)"
      ],
      "metadata": {
        "id": "h7AhycdMTcky"
      },
      "execution_count": null,
      "outputs": []
    },
    {
      "cell_type": "code",
      "source": [
        "topic4_repos = get_topic_repos(topic4_doc)"
      ],
      "metadata": {
        "id": "tnzcCTw-Tob5"
      },
      "execution_count": null,
      "outputs": []
    },
    {
      "cell_type": "code",
      "source": [
        "topic4_repos"
      ],
      "metadata": {
        "colab": {
          "base_uri": "https://localhost:8080/",
          "height": 676
        },
        "id": "aec9Jho4TxBy",
        "outputId": "cc71cd91-908d-4e2e-93c6-470f68bcb8da"
      },
      "execution_count": null,
      "outputs": [
        {
          "output_type": "execute_result",
          "data": {
            "text/plain": [
              "            username                     repo_name   stars  \\\n",
              "0            flutter                       flutter  164000   \n",
              "1           facebook                  react-native  117000   \n",
              "2          justjavac  free-programming-books-zh_CN  111000   \n",
              "3         Genymobile                        scrcpy  106000   \n",
              "4   Hack-with-Github               Awesome-Hacking   80600   \n",
              "5             Solido               awesome-flutter   52400   \n",
              "6             google         material-design-icons   50200   \n",
              "7           wasabeef            awesome-android-ui   49900   \n",
              "8         tldr-pages                          tldr   49500   \n",
              "9             square                        okhttp   45500   \n",
              "10         laurent22                        joplin   44400   \n",
              "11           android          architecture-samples   44100   \n",
              "12            square                      retrofit   42900   \n",
              "13          appwrite                      appwrite   42600   \n",
              "14            skylot                          jadx   40200   \n",
              "15          dcloudio                       uni-app   39700   \n",
              "16          fastlane                      fastlane   38900   \n",
              "17           PhilJay                MPAndroidChart   37400   \n",
              "18       shadowsocks           shadowsocks-android   34900   \n",
              "19            airbnb                lottie-android   34800   \n",
              "\n",
              "                                             repo_url  \n",
              "0                  https://github.com/flutter/flutter  \n",
              "1            https://github.com/facebook/react-native  \n",
              "2   https://github.com/justjavac/free-programming-...  \n",
              "3                https://github.com/Genymobile/scrcpy  \n",
              "4   https://github.com/Hack-with-Github/Awesome-Ha...  \n",
              "5           https://github.com/Solido/awesome-flutter  \n",
              "6     https://github.com/google/material-design-icons  \n",
              "7      https://github.com/wasabeef/awesome-android-ui  \n",
              "8                  https://github.com/tldr-pages/tldr  \n",
              "9                    https://github.com/square/okhttp  \n",
              "10                https://github.com/laurent22/joplin  \n",
              "11    https://github.com/android/architecture-samples  \n",
              "12                 https://github.com/square/retrofit  \n",
              "13               https://github.com/appwrite/appwrite  \n",
              "14                     https://github.com/skylot/jadx  \n",
              "15                https://github.com/dcloudio/uni-app  \n",
              "16               https://github.com/fastlane/fastlane  \n",
              "17          https://github.com/PhilJay/MPAndroidChart  \n",
              "18  https://github.com/shadowsocks/shadowsocks-and...  \n",
              "19           https://github.com/airbnb/lottie-android  "
            ],
            "text/html": [
              "\n",
              "  <div id=\"df-a44709c8-0b8f-47f7-8eb7-51e1176b0465\" class=\"colab-df-container\">\n",
              "    <div>\n",
              "<style scoped>\n",
              "    .dataframe tbody tr th:only-of-type {\n",
              "        vertical-align: middle;\n",
              "    }\n",
              "\n",
              "    .dataframe tbody tr th {\n",
              "        vertical-align: top;\n",
              "    }\n",
              "\n",
              "    .dataframe thead th {\n",
              "        text-align: right;\n",
              "    }\n",
              "</style>\n",
              "<table border=\"1\" class=\"dataframe\">\n",
              "  <thead>\n",
              "    <tr style=\"text-align: right;\">\n",
              "      <th></th>\n",
              "      <th>username</th>\n",
              "      <th>repo_name</th>\n",
              "      <th>stars</th>\n",
              "      <th>repo_url</th>\n",
              "    </tr>\n",
              "  </thead>\n",
              "  <tbody>\n",
              "    <tr>\n",
              "      <th>0</th>\n",
              "      <td>flutter</td>\n",
              "      <td>flutter</td>\n",
              "      <td>164000</td>\n",
              "      <td>https://github.com/flutter/flutter</td>\n",
              "    </tr>\n",
              "    <tr>\n",
              "      <th>1</th>\n",
              "      <td>facebook</td>\n",
              "      <td>react-native</td>\n",
              "      <td>117000</td>\n",
              "      <td>https://github.com/facebook/react-native</td>\n",
              "    </tr>\n",
              "    <tr>\n",
              "      <th>2</th>\n",
              "      <td>justjavac</td>\n",
              "      <td>free-programming-books-zh_CN</td>\n",
              "      <td>111000</td>\n",
              "      <td>https://github.com/justjavac/free-programming-...</td>\n",
              "    </tr>\n",
              "    <tr>\n",
              "      <th>3</th>\n",
              "      <td>Genymobile</td>\n",
              "      <td>scrcpy</td>\n",
              "      <td>106000</td>\n",
              "      <td>https://github.com/Genymobile/scrcpy</td>\n",
              "    </tr>\n",
              "    <tr>\n",
              "      <th>4</th>\n",
              "      <td>Hack-with-Github</td>\n",
              "      <td>Awesome-Hacking</td>\n",
              "      <td>80600</td>\n",
              "      <td>https://github.com/Hack-with-Github/Awesome-Ha...</td>\n",
              "    </tr>\n",
              "    <tr>\n",
              "      <th>5</th>\n",
              "      <td>Solido</td>\n",
              "      <td>awesome-flutter</td>\n",
              "      <td>52400</td>\n",
              "      <td>https://github.com/Solido/awesome-flutter</td>\n",
              "    </tr>\n",
              "    <tr>\n",
              "      <th>6</th>\n",
              "      <td>google</td>\n",
              "      <td>material-design-icons</td>\n",
              "      <td>50200</td>\n",
              "      <td>https://github.com/google/material-design-icons</td>\n",
              "    </tr>\n",
              "    <tr>\n",
              "      <th>7</th>\n",
              "      <td>wasabeef</td>\n",
              "      <td>awesome-android-ui</td>\n",
              "      <td>49900</td>\n",
              "      <td>https://github.com/wasabeef/awesome-android-ui</td>\n",
              "    </tr>\n",
              "    <tr>\n",
              "      <th>8</th>\n",
              "      <td>tldr-pages</td>\n",
              "      <td>tldr</td>\n",
              "      <td>49500</td>\n",
              "      <td>https://github.com/tldr-pages/tldr</td>\n",
              "    </tr>\n",
              "    <tr>\n",
              "      <th>9</th>\n",
              "      <td>square</td>\n",
              "      <td>okhttp</td>\n",
              "      <td>45500</td>\n",
              "      <td>https://github.com/square/okhttp</td>\n",
              "    </tr>\n",
              "    <tr>\n",
              "      <th>10</th>\n",
              "      <td>laurent22</td>\n",
              "      <td>joplin</td>\n",
              "      <td>44400</td>\n",
              "      <td>https://github.com/laurent22/joplin</td>\n",
              "    </tr>\n",
              "    <tr>\n",
              "      <th>11</th>\n",
              "      <td>android</td>\n",
              "      <td>architecture-samples</td>\n",
              "      <td>44100</td>\n",
              "      <td>https://github.com/android/architecture-samples</td>\n",
              "    </tr>\n",
              "    <tr>\n",
              "      <th>12</th>\n",
              "      <td>square</td>\n",
              "      <td>retrofit</td>\n",
              "      <td>42900</td>\n",
              "      <td>https://github.com/square/retrofit</td>\n",
              "    </tr>\n",
              "    <tr>\n",
              "      <th>13</th>\n",
              "      <td>appwrite</td>\n",
              "      <td>appwrite</td>\n",
              "      <td>42600</td>\n",
              "      <td>https://github.com/appwrite/appwrite</td>\n",
              "    </tr>\n",
              "    <tr>\n",
              "      <th>14</th>\n",
              "      <td>skylot</td>\n",
              "      <td>jadx</td>\n",
              "      <td>40200</td>\n",
              "      <td>https://github.com/skylot/jadx</td>\n",
              "    </tr>\n",
              "    <tr>\n",
              "      <th>15</th>\n",
              "      <td>dcloudio</td>\n",
              "      <td>uni-app</td>\n",
              "      <td>39700</td>\n",
              "      <td>https://github.com/dcloudio/uni-app</td>\n",
              "    </tr>\n",
              "    <tr>\n",
              "      <th>16</th>\n",
              "      <td>fastlane</td>\n",
              "      <td>fastlane</td>\n",
              "      <td>38900</td>\n",
              "      <td>https://github.com/fastlane/fastlane</td>\n",
              "    </tr>\n",
              "    <tr>\n",
              "      <th>17</th>\n",
              "      <td>PhilJay</td>\n",
              "      <td>MPAndroidChart</td>\n",
              "      <td>37400</td>\n",
              "      <td>https://github.com/PhilJay/MPAndroidChart</td>\n",
              "    </tr>\n",
              "    <tr>\n",
              "      <th>18</th>\n",
              "      <td>shadowsocks</td>\n",
              "      <td>shadowsocks-android</td>\n",
              "      <td>34900</td>\n",
              "      <td>https://github.com/shadowsocks/shadowsocks-and...</td>\n",
              "    </tr>\n",
              "    <tr>\n",
              "      <th>19</th>\n",
              "      <td>airbnb</td>\n",
              "      <td>lottie-android</td>\n",
              "      <td>34800</td>\n",
              "      <td>https://github.com/airbnb/lottie-android</td>\n",
              "    </tr>\n",
              "  </tbody>\n",
              "</table>\n",
              "</div>\n",
              "    <div class=\"colab-df-buttons\">\n",
              "\n",
              "  <div class=\"colab-df-container\">\n",
              "    <button class=\"colab-df-convert\" onclick=\"convertToInteractive('df-a44709c8-0b8f-47f7-8eb7-51e1176b0465')\"\n",
              "            title=\"Convert this dataframe to an interactive table.\"\n",
              "            style=\"display:none;\">\n",
              "\n",
              "  <svg xmlns=\"http://www.w3.org/2000/svg\" height=\"24px\" viewBox=\"0 -960 960 960\">\n",
              "    <path d=\"M120-120v-720h720v720H120Zm60-500h600v-160H180v160Zm220 220h160v-160H400v160Zm0 220h160v-160H400v160ZM180-400h160v-160H180v160Zm440 0h160v-160H620v160ZM180-180h160v-160H180v160Zm440 0h160v-160H620v160Z\"/>\n",
              "  </svg>\n",
              "    </button>\n",
              "\n",
              "  <style>\n",
              "    .colab-df-container {\n",
              "      display:flex;\n",
              "      gap: 12px;\n",
              "    }\n",
              "\n",
              "    .colab-df-convert {\n",
              "      background-color: #E8F0FE;\n",
              "      border: none;\n",
              "      border-radius: 50%;\n",
              "      cursor: pointer;\n",
              "      display: none;\n",
              "      fill: #1967D2;\n",
              "      height: 32px;\n",
              "      padding: 0 0 0 0;\n",
              "      width: 32px;\n",
              "    }\n",
              "\n",
              "    .colab-df-convert:hover {\n",
              "      background-color: #E2EBFA;\n",
              "      box-shadow: 0px 1px 2px rgba(60, 64, 67, 0.3), 0px 1px 3px 1px rgba(60, 64, 67, 0.15);\n",
              "      fill: #174EA6;\n",
              "    }\n",
              "\n",
              "    .colab-df-buttons div {\n",
              "      margin-bottom: 4px;\n",
              "    }\n",
              "\n",
              "    [theme=dark] .colab-df-convert {\n",
              "      background-color: #3B4455;\n",
              "      fill: #D2E3FC;\n",
              "    }\n",
              "\n",
              "    [theme=dark] .colab-df-convert:hover {\n",
              "      background-color: #434B5C;\n",
              "      box-shadow: 0px 1px 3px 1px rgba(0, 0, 0, 0.15);\n",
              "      filter: drop-shadow(0px 1px 2px rgba(0, 0, 0, 0.3));\n",
              "      fill: #FFFFFF;\n",
              "    }\n",
              "  </style>\n",
              "\n",
              "    <script>\n",
              "      const buttonEl =\n",
              "        document.querySelector('#df-a44709c8-0b8f-47f7-8eb7-51e1176b0465 button.colab-df-convert');\n",
              "      buttonEl.style.display =\n",
              "        google.colab.kernel.accessAllowed ? 'block' : 'none';\n",
              "\n",
              "      async function convertToInteractive(key) {\n",
              "        const element = document.querySelector('#df-a44709c8-0b8f-47f7-8eb7-51e1176b0465');\n",
              "        const dataTable =\n",
              "          await google.colab.kernel.invokeFunction('convertToInteractive',\n",
              "                                                    [key], {});\n",
              "        if (!dataTable) return;\n",
              "\n",
              "        const docLinkHtml = 'Like what you see? Visit the ' +\n",
              "          '<a target=\"_blank\" href=https://colab.research.google.com/notebooks/data_table.ipynb>data table notebook</a>'\n",
              "          + ' to learn more about interactive tables.';\n",
              "        element.innerHTML = '';\n",
              "        dataTable['output_type'] = 'display_data';\n",
              "        await google.colab.output.renderOutput(dataTable, element);\n",
              "        const docLink = document.createElement('div');\n",
              "        docLink.innerHTML = docLinkHtml;\n",
              "        element.appendChild(docLink);\n",
              "      }\n",
              "    </script>\n",
              "  </div>\n",
              "\n",
              "\n",
              "<div id=\"df-447ed316-020a-4e91-a37e-8d9506e9bb6c\">\n",
              "  <button class=\"colab-df-quickchart\" onclick=\"quickchart('df-447ed316-020a-4e91-a37e-8d9506e9bb6c')\"\n",
              "            title=\"Suggest charts\"\n",
              "            style=\"display:none;\">\n",
              "\n",
              "<svg xmlns=\"http://www.w3.org/2000/svg\" height=\"24px\"viewBox=\"0 0 24 24\"\n",
              "     width=\"24px\">\n",
              "    <g>\n",
              "        <path d=\"M19 3H5c-1.1 0-2 .9-2 2v14c0 1.1.9 2 2 2h14c1.1 0 2-.9 2-2V5c0-1.1-.9-2-2-2zM9 17H7v-7h2v7zm4 0h-2V7h2v10zm4 0h-2v-4h2v4z\"/>\n",
              "    </g>\n",
              "</svg>\n",
              "  </button>\n",
              "\n",
              "<style>\n",
              "  .colab-df-quickchart {\n",
              "      --bg-color: #E8F0FE;\n",
              "      --fill-color: #1967D2;\n",
              "      --hover-bg-color: #E2EBFA;\n",
              "      --hover-fill-color: #174EA6;\n",
              "      --disabled-fill-color: #AAA;\n",
              "      --disabled-bg-color: #DDD;\n",
              "  }\n",
              "\n",
              "  [theme=dark] .colab-df-quickchart {\n",
              "      --bg-color: #3B4455;\n",
              "      --fill-color: #D2E3FC;\n",
              "      --hover-bg-color: #434B5C;\n",
              "      --hover-fill-color: #FFFFFF;\n",
              "      --disabled-bg-color: #3B4455;\n",
              "      --disabled-fill-color: #666;\n",
              "  }\n",
              "\n",
              "  .colab-df-quickchart {\n",
              "    background-color: var(--bg-color);\n",
              "    border: none;\n",
              "    border-radius: 50%;\n",
              "    cursor: pointer;\n",
              "    display: none;\n",
              "    fill: var(--fill-color);\n",
              "    height: 32px;\n",
              "    padding: 0;\n",
              "    width: 32px;\n",
              "  }\n",
              "\n",
              "  .colab-df-quickchart:hover {\n",
              "    background-color: var(--hover-bg-color);\n",
              "    box-shadow: 0 1px 2px rgba(60, 64, 67, 0.3), 0 1px 3px 1px rgba(60, 64, 67, 0.15);\n",
              "    fill: var(--button-hover-fill-color);\n",
              "  }\n",
              "\n",
              "  .colab-df-quickchart-complete:disabled,\n",
              "  .colab-df-quickchart-complete:disabled:hover {\n",
              "    background-color: var(--disabled-bg-color);\n",
              "    fill: var(--disabled-fill-color);\n",
              "    box-shadow: none;\n",
              "  }\n",
              "\n",
              "  .colab-df-spinner {\n",
              "    border: 2px solid var(--fill-color);\n",
              "    border-color: transparent;\n",
              "    border-bottom-color: var(--fill-color);\n",
              "    animation:\n",
              "      spin 1s steps(1) infinite;\n",
              "  }\n",
              "\n",
              "  @keyframes spin {\n",
              "    0% {\n",
              "      border-color: transparent;\n",
              "      border-bottom-color: var(--fill-color);\n",
              "      border-left-color: var(--fill-color);\n",
              "    }\n",
              "    20% {\n",
              "      border-color: transparent;\n",
              "      border-left-color: var(--fill-color);\n",
              "      border-top-color: var(--fill-color);\n",
              "    }\n",
              "    30% {\n",
              "      border-color: transparent;\n",
              "      border-left-color: var(--fill-color);\n",
              "      border-top-color: var(--fill-color);\n",
              "      border-right-color: var(--fill-color);\n",
              "    }\n",
              "    40% {\n",
              "      border-color: transparent;\n",
              "      border-right-color: var(--fill-color);\n",
              "      border-top-color: var(--fill-color);\n",
              "    }\n",
              "    60% {\n",
              "      border-color: transparent;\n",
              "      border-right-color: var(--fill-color);\n",
              "    }\n",
              "    80% {\n",
              "      border-color: transparent;\n",
              "      border-right-color: var(--fill-color);\n",
              "      border-bottom-color: var(--fill-color);\n",
              "    }\n",
              "    90% {\n",
              "      border-color: transparent;\n",
              "      border-bottom-color: var(--fill-color);\n",
              "    }\n",
              "  }\n",
              "</style>\n",
              "\n",
              "  <script>\n",
              "    async function quickchart(key) {\n",
              "      const quickchartButtonEl =\n",
              "        document.querySelector('#' + key + ' button');\n",
              "      quickchartButtonEl.disabled = true;  // To prevent multiple clicks.\n",
              "      quickchartButtonEl.classList.add('colab-df-spinner');\n",
              "      try {\n",
              "        const charts = await google.colab.kernel.invokeFunction(\n",
              "            'suggestCharts', [key], {});\n",
              "      } catch (error) {\n",
              "        console.error('Error during call to suggestCharts:', error);\n",
              "      }\n",
              "      quickchartButtonEl.classList.remove('colab-df-spinner');\n",
              "      quickchartButtonEl.classList.add('colab-df-quickchart-complete');\n",
              "    }\n",
              "    (() => {\n",
              "      let quickchartButtonEl =\n",
              "        document.querySelector('#df-447ed316-020a-4e91-a37e-8d9506e9bb6c button');\n",
              "      quickchartButtonEl.style.display =\n",
              "        google.colab.kernel.accessAllowed ? 'block' : 'none';\n",
              "    })();\n",
              "  </script>\n",
              "</div>\n",
              "\n",
              "  <div id=\"id_723ca6ca-630a-4dd8-9716-51478c3887f3\">\n",
              "    <style>\n",
              "      .colab-df-generate {\n",
              "        background-color: #E8F0FE;\n",
              "        border: none;\n",
              "        border-radius: 50%;\n",
              "        cursor: pointer;\n",
              "        display: none;\n",
              "        fill: #1967D2;\n",
              "        height: 32px;\n",
              "        padding: 0 0 0 0;\n",
              "        width: 32px;\n",
              "      }\n",
              "\n",
              "      .colab-df-generate:hover {\n",
              "        background-color: #E2EBFA;\n",
              "        box-shadow: 0px 1px 2px rgba(60, 64, 67, 0.3), 0px 1px 3px 1px rgba(60, 64, 67, 0.15);\n",
              "        fill: #174EA6;\n",
              "      }\n",
              "\n",
              "      [theme=dark] .colab-df-generate {\n",
              "        background-color: #3B4455;\n",
              "        fill: #D2E3FC;\n",
              "      }\n",
              "\n",
              "      [theme=dark] .colab-df-generate:hover {\n",
              "        background-color: #434B5C;\n",
              "        box-shadow: 0px 1px 3px 1px rgba(0, 0, 0, 0.15);\n",
              "        filter: drop-shadow(0px 1px 2px rgba(0, 0, 0, 0.3));\n",
              "        fill: #FFFFFF;\n",
              "      }\n",
              "    </style>\n",
              "    <button class=\"colab-df-generate\" onclick=\"generateWithVariable('topic4_repos')\"\n",
              "            title=\"Generate code using this dataframe.\"\n",
              "            style=\"display:none;\">\n",
              "\n",
              "  <svg xmlns=\"http://www.w3.org/2000/svg\" height=\"24px\"viewBox=\"0 0 24 24\"\n",
              "       width=\"24px\">\n",
              "    <path d=\"M7,19H8.4L18.45,9,17,7.55,7,17.6ZM5,21V16.75L18.45,3.32a2,2,0,0,1,2.83,0l1.4,1.43a1.91,1.91,0,0,1,.58,1.4,1.91,1.91,0,0,1-.58,1.4L9.25,21ZM18.45,9,17,7.55Zm-12,3A5.31,5.31,0,0,0,4.9,8.1,5.31,5.31,0,0,0,1,6.5,5.31,5.31,0,0,0,4.9,4.9,5.31,5.31,0,0,0,6.5,1,5.31,5.31,0,0,0,8.1,4.9,5.31,5.31,0,0,0,12,6.5,5.46,5.46,0,0,0,6.5,12Z\"/>\n",
              "  </svg>\n",
              "    </button>\n",
              "    <script>\n",
              "      (() => {\n",
              "      const buttonEl =\n",
              "        document.querySelector('#id_723ca6ca-630a-4dd8-9716-51478c3887f3 button.colab-df-generate');\n",
              "      buttonEl.style.display =\n",
              "        google.colab.kernel.accessAllowed ? 'block' : 'none';\n",
              "\n",
              "      buttonEl.onclick = () => {\n",
              "        google.colab.notebook.generateWithVariable('topic4_repos');\n",
              "      }\n",
              "      })();\n",
              "    </script>\n",
              "  </div>\n",
              "\n",
              "    </div>\n",
              "  </div>\n"
            ],
            "application/vnd.google.colaboratory.intrinsic+json": {
              "type": "dataframe",
              "variable_name": "topic4_repos",
              "summary": "{\n  \"name\": \"topic4_repos\",\n  \"rows\": 20,\n  \"fields\": [\n    {\n      \"column\": \"username\",\n      \"properties\": {\n        \"dtype\": \"string\",\n        \"num_unique_values\": 19,\n        \"samples\": [\n          \"flutter\",\n          \"Solido\",\n          \"android\"\n        ],\n        \"semantic_type\": \"\",\n        \"description\": \"\"\n      }\n    },\n    {\n      \"column\": \"repo_name\",\n      \"properties\": {\n        \"dtype\": \"string\",\n        \"num_unique_values\": 20,\n        \"samples\": [\n          \"flutter\",\n          \"MPAndroidChart\",\n          \"uni-app\"\n        ],\n        \"semantic_type\": \"\",\n        \"description\": \"\"\n      }\n    },\n    {\n      \"column\": \"stars\",\n      \"properties\": {\n        \"dtype\": \"number\",\n        \"std\": 35441,\n        \"min\": 34800,\n        \"max\": 164000,\n        \"num_unique_values\": 20,\n        \"samples\": [\n          164000,\n          37400,\n          39700\n        ],\n        \"semantic_type\": \"\",\n        \"description\": \"\"\n      }\n    },\n    {\n      \"column\": \"repo_url\",\n      \"properties\": {\n        \"dtype\": \"string\",\n        \"num_unique_values\": 20,\n        \"samples\": [\n          \"https://github.com/flutter/flutter\",\n          \"https://github.com/PhilJay/MPAndroidChart\",\n          \"https://github.com/dcloudio/uni-app\"\n        ],\n        \"semantic_type\": \"\",\n        \"description\": \"\"\n      }\n    }\n  ]\n}"
            }
          },
          "metadata": {},
          "execution_count": 156
        }
      ]
    },
    {
      "cell_type": "code",
      "source": [
        "def get_topic_titles(doc):\n",
        "  selection_class = 'f3 lh-condensed mb-0 mt-1 Link--primary'\n",
        "  p_tags = doc.find_all('p',{'class': selection_class})\n",
        "  topic_titles = []\n",
        "  for tags in p_tags:\n",
        "    topic_titles.append(tags.text)\n",
        "  return topic_titles\n",
        "\n",
        "def get_topic_description(doc):\n",
        "  topic_title_class = 'f5 color-fg-muted mb-0 mt-1'\n",
        "  topic_title_tags = doc.find_all('p',{'class':topic_title_class})\n",
        "  topic_descriptions = []\n",
        "  for desc in topic_title_tags:\n",
        "    topic_descriptions.append(desc.text.strip())\n",
        "  return topic_descriptions\n",
        "\n",
        "def get_topic_urls(doc):\n",
        "  link_class = 'no-underline flex-1 d-flex flex-column'\n",
        "  topic_link_tag = doc.find_all('a',{'class':link_class})\n",
        "  topic_urls = []\n",
        "  base = 'https://github.com'\n",
        "  for url in topic_link_tag:\n",
        "    topic_urls.append(base + url['href'])\n",
        "  return topic_urls\n",
        "\n",
        "def scrape_topics():\n",
        "  topics_url = 'https://github.com/topics'\n",
        "  response = requests.get(topics_url)\n",
        "  if response.status_code != 200:\n",
        "    raise Exception('Failed to load Page {}'.format(topic_url))\n",
        "  topic_dict = {\n",
        "      'title' : get_topic_titles(doc),\n",
        "      'description' : get_topic_description(doc),\n",
        "      'url' : get_topic_urls(doc)\n",
        "  }\n",
        "  return pd.DataFrame(topic_dict)"
      ],
      "metadata": {
        "id": "g2tjJwDuT2iF"
      },
      "execution_count": null,
      "outputs": []
    },
    {
      "cell_type": "code",
      "source": [
        "scrape_topics()"
      ],
      "metadata": {
        "colab": {
          "base_uri": "https://localhost:8080/",
          "height": 989
        },
        "id": "orX-c_rPBvAP",
        "outputId": "597ba7de-73dd-461e-d6f8-e5f9c3610cc7"
      },
      "execution_count": null,
      "outputs": [
        {
          "output_type": "execute_result",
          "data": {
            "text/plain": [
              "                     title                                        description  \\\n",
              "0                       3D  3D refers to the use of three-dimensional grap...   \n",
              "1                     Ajax  Ajax is a technique for creating interactive w...   \n",
              "2                Algorithm  Algorithms are self-contained sequences that c...   \n",
              "3                      Amp  Amp is a non-blocking concurrency library for ...   \n",
              "4                  Android  Android is an operating system built by Google...   \n",
              "5                  Angular  Angular is an open source web application plat...   \n",
              "6                  Ansible  Ansible is a simple and powerful automation en...   \n",
              "7                      API  An API (Application Programming Interface) is ...   \n",
              "8                  Arduino  Arduino is an open source platform for buildin...   \n",
              "9                  ASP.NET  ASP.NET is a web framework for building modern...   \n",
              "10           Awesome Lists  An awesome list is a list of awesome things cu...   \n",
              "11     Amazon Web Services  Amazon Web Services provides on-demand cloud c...   \n",
              "12                   Azure  Azure is a cloud computing service created by ...   \n",
              "13                   Babel  Babel is a compiler for writing next generatio...   \n",
              "14                    Bash  Bash is a shell and command language interpret...   \n",
              "15                 Bitcoin  Bitcoin is a cryptocurrency developed by Satos...   \n",
              "16               Bootstrap  Bootstrap is an HTML, CSS, and JavaScript fram...   \n",
              "17                     Bot  A bot is an application that runs automated ta...   \n",
              "18                       C  C is a general purpose programming language th...   \n",
              "19                  Chrome  Chrome is a web browser from the tech company ...   \n",
              "20        Chrome extension  Chrome extensions enable users to customize th...   \n",
              "21  Command-line interface  A CLI, or command-line interface, is a console...   \n",
              "22                 Clojure  Clojure is a dynamic, general-purpose programm...   \n",
              "23            Code quality  Automate your code review with style, quality,...   \n",
              "24             Code review  Ensure your code meets quality standards and s...   \n",
              "25                Compiler  Compilers are software that translate higher-l...   \n",
              "26  Continuous integration  Automatically build and test your code as you ...   \n",
              "27                     C++  C++ is a general purpose and object-oriented p...   \n",
              "28          Cryptocurrency  A cryptocurrency is a digital currency that us...   \n",
              "29                 Crystal  Crystal is a self-hosted, general purpose prog...   \n",
              "\n",
              "                                                 url  \n",
              "0                       https://github.com/topics/3d  \n",
              "1                     https://github.com/topics/ajax  \n",
              "2                https://github.com/topics/algorithm  \n",
              "3                    https://github.com/topics/amphp  \n",
              "4                  https://github.com/topics/android  \n",
              "5                  https://github.com/topics/angular  \n",
              "6                  https://github.com/topics/ansible  \n",
              "7                      https://github.com/topics/api  \n",
              "8                  https://github.com/topics/arduino  \n",
              "9                   https://github.com/topics/aspnet  \n",
              "10                 https://github.com/topics/awesome  \n",
              "11                     https://github.com/topics/aws  \n",
              "12                   https://github.com/topics/azure  \n",
              "13                   https://github.com/topics/babel  \n",
              "14                    https://github.com/topics/bash  \n",
              "15                 https://github.com/topics/bitcoin  \n",
              "16               https://github.com/topics/bootstrap  \n",
              "17                     https://github.com/topics/bot  \n",
              "18                       https://github.com/topics/c  \n",
              "19                  https://github.com/topics/chrome  \n",
              "20        https://github.com/topics/chrome-extension  \n",
              "21                     https://github.com/topics/cli  \n",
              "22                 https://github.com/topics/clojure  \n",
              "23            https://github.com/topics/code-quality  \n",
              "24             https://github.com/topics/code-review  \n",
              "25                https://github.com/topics/compiler  \n",
              "26  https://github.com/topics/continuous-integration  \n",
              "27                     https://github.com/topics/cpp  \n",
              "28          https://github.com/topics/cryptocurrency  \n",
              "29                 https://github.com/topics/crystal  "
            ],
            "text/html": [
              "\n",
              "  <div id=\"df-9ffe46ae-03f8-4673-aa3b-a1da20d9c527\" class=\"colab-df-container\">\n",
              "    <div>\n",
              "<style scoped>\n",
              "    .dataframe tbody tr th:only-of-type {\n",
              "        vertical-align: middle;\n",
              "    }\n",
              "\n",
              "    .dataframe tbody tr th {\n",
              "        vertical-align: top;\n",
              "    }\n",
              "\n",
              "    .dataframe thead th {\n",
              "        text-align: right;\n",
              "    }\n",
              "</style>\n",
              "<table border=\"1\" class=\"dataframe\">\n",
              "  <thead>\n",
              "    <tr style=\"text-align: right;\">\n",
              "      <th></th>\n",
              "      <th>title</th>\n",
              "      <th>description</th>\n",
              "      <th>url</th>\n",
              "    </tr>\n",
              "  </thead>\n",
              "  <tbody>\n",
              "    <tr>\n",
              "      <th>0</th>\n",
              "      <td>3D</td>\n",
              "      <td>3D refers to the use of three-dimensional grap...</td>\n",
              "      <td>https://github.com/topics/3d</td>\n",
              "    </tr>\n",
              "    <tr>\n",
              "      <th>1</th>\n",
              "      <td>Ajax</td>\n",
              "      <td>Ajax is a technique for creating interactive w...</td>\n",
              "      <td>https://github.com/topics/ajax</td>\n",
              "    </tr>\n",
              "    <tr>\n",
              "      <th>2</th>\n",
              "      <td>Algorithm</td>\n",
              "      <td>Algorithms are self-contained sequences that c...</td>\n",
              "      <td>https://github.com/topics/algorithm</td>\n",
              "    </tr>\n",
              "    <tr>\n",
              "      <th>3</th>\n",
              "      <td>Amp</td>\n",
              "      <td>Amp is a non-blocking concurrency library for ...</td>\n",
              "      <td>https://github.com/topics/amphp</td>\n",
              "    </tr>\n",
              "    <tr>\n",
              "      <th>4</th>\n",
              "      <td>Android</td>\n",
              "      <td>Android is an operating system built by Google...</td>\n",
              "      <td>https://github.com/topics/android</td>\n",
              "    </tr>\n",
              "    <tr>\n",
              "      <th>5</th>\n",
              "      <td>Angular</td>\n",
              "      <td>Angular is an open source web application plat...</td>\n",
              "      <td>https://github.com/topics/angular</td>\n",
              "    </tr>\n",
              "    <tr>\n",
              "      <th>6</th>\n",
              "      <td>Ansible</td>\n",
              "      <td>Ansible is a simple and powerful automation en...</td>\n",
              "      <td>https://github.com/topics/ansible</td>\n",
              "    </tr>\n",
              "    <tr>\n",
              "      <th>7</th>\n",
              "      <td>API</td>\n",
              "      <td>An API (Application Programming Interface) is ...</td>\n",
              "      <td>https://github.com/topics/api</td>\n",
              "    </tr>\n",
              "    <tr>\n",
              "      <th>8</th>\n",
              "      <td>Arduino</td>\n",
              "      <td>Arduino is an open source platform for buildin...</td>\n",
              "      <td>https://github.com/topics/arduino</td>\n",
              "    </tr>\n",
              "    <tr>\n",
              "      <th>9</th>\n",
              "      <td>ASP.NET</td>\n",
              "      <td>ASP.NET is a web framework for building modern...</td>\n",
              "      <td>https://github.com/topics/aspnet</td>\n",
              "    </tr>\n",
              "    <tr>\n",
              "      <th>10</th>\n",
              "      <td>Awesome Lists</td>\n",
              "      <td>An awesome list is a list of awesome things cu...</td>\n",
              "      <td>https://github.com/topics/awesome</td>\n",
              "    </tr>\n",
              "    <tr>\n",
              "      <th>11</th>\n",
              "      <td>Amazon Web Services</td>\n",
              "      <td>Amazon Web Services provides on-demand cloud c...</td>\n",
              "      <td>https://github.com/topics/aws</td>\n",
              "    </tr>\n",
              "    <tr>\n",
              "      <th>12</th>\n",
              "      <td>Azure</td>\n",
              "      <td>Azure is a cloud computing service created by ...</td>\n",
              "      <td>https://github.com/topics/azure</td>\n",
              "    </tr>\n",
              "    <tr>\n",
              "      <th>13</th>\n",
              "      <td>Babel</td>\n",
              "      <td>Babel is a compiler for writing next generatio...</td>\n",
              "      <td>https://github.com/topics/babel</td>\n",
              "    </tr>\n",
              "    <tr>\n",
              "      <th>14</th>\n",
              "      <td>Bash</td>\n",
              "      <td>Bash is a shell and command language interpret...</td>\n",
              "      <td>https://github.com/topics/bash</td>\n",
              "    </tr>\n",
              "    <tr>\n",
              "      <th>15</th>\n",
              "      <td>Bitcoin</td>\n",
              "      <td>Bitcoin is a cryptocurrency developed by Satos...</td>\n",
              "      <td>https://github.com/topics/bitcoin</td>\n",
              "    </tr>\n",
              "    <tr>\n",
              "      <th>16</th>\n",
              "      <td>Bootstrap</td>\n",
              "      <td>Bootstrap is an HTML, CSS, and JavaScript fram...</td>\n",
              "      <td>https://github.com/topics/bootstrap</td>\n",
              "    </tr>\n",
              "    <tr>\n",
              "      <th>17</th>\n",
              "      <td>Bot</td>\n",
              "      <td>A bot is an application that runs automated ta...</td>\n",
              "      <td>https://github.com/topics/bot</td>\n",
              "    </tr>\n",
              "    <tr>\n",
              "      <th>18</th>\n",
              "      <td>C</td>\n",
              "      <td>C is a general purpose programming language th...</td>\n",
              "      <td>https://github.com/topics/c</td>\n",
              "    </tr>\n",
              "    <tr>\n",
              "      <th>19</th>\n",
              "      <td>Chrome</td>\n",
              "      <td>Chrome is a web browser from the tech company ...</td>\n",
              "      <td>https://github.com/topics/chrome</td>\n",
              "    </tr>\n",
              "    <tr>\n",
              "      <th>20</th>\n",
              "      <td>Chrome extension</td>\n",
              "      <td>Chrome extensions enable users to customize th...</td>\n",
              "      <td>https://github.com/topics/chrome-extension</td>\n",
              "    </tr>\n",
              "    <tr>\n",
              "      <th>21</th>\n",
              "      <td>Command-line interface</td>\n",
              "      <td>A CLI, or command-line interface, is a console...</td>\n",
              "      <td>https://github.com/topics/cli</td>\n",
              "    </tr>\n",
              "    <tr>\n",
              "      <th>22</th>\n",
              "      <td>Clojure</td>\n",
              "      <td>Clojure is a dynamic, general-purpose programm...</td>\n",
              "      <td>https://github.com/topics/clojure</td>\n",
              "    </tr>\n",
              "    <tr>\n",
              "      <th>23</th>\n",
              "      <td>Code quality</td>\n",
              "      <td>Automate your code review with style, quality,...</td>\n",
              "      <td>https://github.com/topics/code-quality</td>\n",
              "    </tr>\n",
              "    <tr>\n",
              "      <th>24</th>\n",
              "      <td>Code review</td>\n",
              "      <td>Ensure your code meets quality standards and s...</td>\n",
              "      <td>https://github.com/topics/code-review</td>\n",
              "    </tr>\n",
              "    <tr>\n",
              "      <th>25</th>\n",
              "      <td>Compiler</td>\n",
              "      <td>Compilers are software that translate higher-l...</td>\n",
              "      <td>https://github.com/topics/compiler</td>\n",
              "    </tr>\n",
              "    <tr>\n",
              "      <th>26</th>\n",
              "      <td>Continuous integration</td>\n",
              "      <td>Automatically build and test your code as you ...</td>\n",
              "      <td>https://github.com/topics/continuous-integration</td>\n",
              "    </tr>\n",
              "    <tr>\n",
              "      <th>27</th>\n",
              "      <td>C++</td>\n",
              "      <td>C++ is a general purpose and object-oriented p...</td>\n",
              "      <td>https://github.com/topics/cpp</td>\n",
              "    </tr>\n",
              "    <tr>\n",
              "      <th>28</th>\n",
              "      <td>Cryptocurrency</td>\n",
              "      <td>A cryptocurrency is a digital currency that us...</td>\n",
              "      <td>https://github.com/topics/cryptocurrency</td>\n",
              "    </tr>\n",
              "    <tr>\n",
              "      <th>29</th>\n",
              "      <td>Crystal</td>\n",
              "      <td>Crystal is a self-hosted, general purpose prog...</td>\n",
              "      <td>https://github.com/topics/crystal</td>\n",
              "    </tr>\n",
              "  </tbody>\n",
              "</table>\n",
              "</div>\n",
              "    <div class=\"colab-df-buttons\">\n",
              "\n",
              "  <div class=\"colab-df-container\">\n",
              "    <button class=\"colab-df-convert\" onclick=\"convertToInteractive('df-9ffe46ae-03f8-4673-aa3b-a1da20d9c527')\"\n",
              "            title=\"Convert this dataframe to an interactive table.\"\n",
              "            style=\"display:none;\">\n",
              "\n",
              "  <svg xmlns=\"http://www.w3.org/2000/svg\" height=\"24px\" viewBox=\"0 -960 960 960\">\n",
              "    <path d=\"M120-120v-720h720v720H120Zm60-500h600v-160H180v160Zm220 220h160v-160H400v160Zm0 220h160v-160H400v160ZM180-400h160v-160H180v160Zm440 0h160v-160H620v160ZM180-180h160v-160H180v160Zm440 0h160v-160H620v160Z\"/>\n",
              "  </svg>\n",
              "    </button>\n",
              "\n",
              "  <style>\n",
              "    .colab-df-container {\n",
              "      display:flex;\n",
              "      gap: 12px;\n",
              "    }\n",
              "\n",
              "    .colab-df-convert {\n",
              "      background-color: #E8F0FE;\n",
              "      border: none;\n",
              "      border-radius: 50%;\n",
              "      cursor: pointer;\n",
              "      display: none;\n",
              "      fill: #1967D2;\n",
              "      height: 32px;\n",
              "      padding: 0 0 0 0;\n",
              "      width: 32px;\n",
              "    }\n",
              "\n",
              "    .colab-df-convert:hover {\n",
              "      background-color: #E2EBFA;\n",
              "      box-shadow: 0px 1px 2px rgba(60, 64, 67, 0.3), 0px 1px 3px 1px rgba(60, 64, 67, 0.15);\n",
              "      fill: #174EA6;\n",
              "    }\n",
              "\n",
              "    .colab-df-buttons div {\n",
              "      margin-bottom: 4px;\n",
              "    }\n",
              "\n",
              "    [theme=dark] .colab-df-convert {\n",
              "      background-color: #3B4455;\n",
              "      fill: #D2E3FC;\n",
              "    }\n",
              "\n",
              "    [theme=dark] .colab-df-convert:hover {\n",
              "      background-color: #434B5C;\n",
              "      box-shadow: 0px 1px 3px 1px rgba(0, 0, 0, 0.15);\n",
              "      filter: drop-shadow(0px 1px 2px rgba(0, 0, 0, 0.3));\n",
              "      fill: #FFFFFF;\n",
              "    }\n",
              "  </style>\n",
              "\n",
              "    <script>\n",
              "      const buttonEl =\n",
              "        document.querySelector('#df-9ffe46ae-03f8-4673-aa3b-a1da20d9c527 button.colab-df-convert');\n",
              "      buttonEl.style.display =\n",
              "        google.colab.kernel.accessAllowed ? 'block' : 'none';\n",
              "\n",
              "      async function convertToInteractive(key) {\n",
              "        const element = document.querySelector('#df-9ffe46ae-03f8-4673-aa3b-a1da20d9c527');\n",
              "        const dataTable =\n",
              "          await google.colab.kernel.invokeFunction('convertToInteractive',\n",
              "                                                    [key], {});\n",
              "        if (!dataTable) return;\n",
              "\n",
              "        const docLinkHtml = 'Like what you see? Visit the ' +\n",
              "          '<a target=\"_blank\" href=https://colab.research.google.com/notebooks/data_table.ipynb>data table notebook</a>'\n",
              "          + ' to learn more about interactive tables.';\n",
              "        element.innerHTML = '';\n",
              "        dataTable['output_type'] = 'display_data';\n",
              "        await google.colab.output.renderOutput(dataTable, element);\n",
              "        const docLink = document.createElement('div');\n",
              "        docLink.innerHTML = docLinkHtml;\n",
              "        element.appendChild(docLink);\n",
              "      }\n",
              "    </script>\n",
              "  </div>\n",
              "\n",
              "\n",
              "<div id=\"df-29fbfad3-a342-4454-aa8a-a127fc3a5891\">\n",
              "  <button class=\"colab-df-quickchart\" onclick=\"quickchart('df-29fbfad3-a342-4454-aa8a-a127fc3a5891')\"\n",
              "            title=\"Suggest charts\"\n",
              "            style=\"display:none;\">\n",
              "\n",
              "<svg xmlns=\"http://www.w3.org/2000/svg\" height=\"24px\"viewBox=\"0 0 24 24\"\n",
              "     width=\"24px\">\n",
              "    <g>\n",
              "        <path d=\"M19 3H5c-1.1 0-2 .9-2 2v14c0 1.1.9 2 2 2h14c1.1 0 2-.9 2-2V5c0-1.1-.9-2-2-2zM9 17H7v-7h2v7zm4 0h-2V7h2v10zm4 0h-2v-4h2v4z\"/>\n",
              "    </g>\n",
              "</svg>\n",
              "  </button>\n",
              "\n",
              "<style>\n",
              "  .colab-df-quickchart {\n",
              "      --bg-color: #E8F0FE;\n",
              "      --fill-color: #1967D2;\n",
              "      --hover-bg-color: #E2EBFA;\n",
              "      --hover-fill-color: #174EA6;\n",
              "      --disabled-fill-color: #AAA;\n",
              "      --disabled-bg-color: #DDD;\n",
              "  }\n",
              "\n",
              "  [theme=dark] .colab-df-quickchart {\n",
              "      --bg-color: #3B4455;\n",
              "      --fill-color: #D2E3FC;\n",
              "      --hover-bg-color: #434B5C;\n",
              "      --hover-fill-color: #FFFFFF;\n",
              "      --disabled-bg-color: #3B4455;\n",
              "      --disabled-fill-color: #666;\n",
              "  }\n",
              "\n",
              "  .colab-df-quickchart {\n",
              "    background-color: var(--bg-color);\n",
              "    border: none;\n",
              "    border-radius: 50%;\n",
              "    cursor: pointer;\n",
              "    display: none;\n",
              "    fill: var(--fill-color);\n",
              "    height: 32px;\n",
              "    padding: 0;\n",
              "    width: 32px;\n",
              "  }\n",
              "\n",
              "  .colab-df-quickchart:hover {\n",
              "    background-color: var(--hover-bg-color);\n",
              "    box-shadow: 0 1px 2px rgba(60, 64, 67, 0.3), 0 1px 3px 1px rgba(60, 64, 67, 0.15);\n",
              "    fill: var(--button-hover-fill-color);\n",
              "  }\n",
              "\n",
              "  .colab-df-quickchart-complete:disabled,\n",
              "  .colab-df-quickchart-complete:disabled:hover {\n",
              "    background-color: var(--disabled-bg-color);\n",
              "    fill: var(--disabled-fill-color);\n",
              "    box-shadow: none;\n",
              "  }\n",
              "\n",
              "  .colab-df-spinner {\n",
              "    border: 2px solid var(--fill-color);\n",
              "    border-color: transparent;\n",
              "    border-bottom-color: var(--fill-color);\n",
              "    animation:\n",
              "      spin 1s steps(1) infinite;\n",
              "  }\n",
              "\n",
              "  @keyframes spin {\n",
              "    0% {\n",
              "      border-color: transparent;\n",
              "      border-bottom-color: var(--fill-color);\n",
              "      border-left-color: var(--fill-color);\n",
              "    }\n",
              "    20% {\n",
              "      border-color: transparent;\n",
              "      border-left-color: var(--fill-color);\n",
              "      border-top-color: var(--fill-color);\n",
              "    }\n",
              "    30% {\n",
              "      border-color: transparent;\n",
              "      border-left-color: var(--fill-color);\n",
              "      border-top-color: var(--fill-color);\n",
              "      border-right-color: var(--fill-color);\n",
              "    }\n",
              "    40% {\n",
              "      border-color: transparent;\n",
              "      border-right-color: var(--fill-color);\n",
              "      border-top-color: var(--fill-color);\n",
              "    }\n",
              "    60% {\n",
              "      border-color: transparent;\n",
              "      border-right-color: var(--fill-color);\n",
              "    }\n",
              "    80% {\n",
              "      border-color: transparent;\n",
              "      border-right-color: var(--fill-color);\n",
              "      border-bottom-color: var(--fill-color);\n",
              "    }\n",
              "    90% {\n",
              "      border-color: transparent;\n",
              "      border-bottom-color: var(--fill-color);\n",
              "    }\n",
              "  }\n",
              "</style>\n",
              "\n",
              "  <script>\n",
              "    async function quickchart(key) {\n",
              "      const quickchartButtonEl =\n",
              "        document.querySelector('#' + key + ' button');\n",
              "      quickchartButtonEl.disabled = true;  // To prevent multiple clicks.\n",
              "      quickchartButtonEl.classList.add('colab-df-spinner');\n",
              "      try {\n",
              "        const charts = await google.colab.kernel.invokeFunction(\n",
              "            'suggestCharts', [key], {});\n",
              "      } catch (error) {\n",
              "        console.error('Error during call to suggestCharts:', error);\n",
              "      }\n",
              "      quickchartButtonEl.classList.remove('colab-df-spinner');\n",
              "      quickchartButtonEl.classList.add('colab-df-quickchart-complete');\n",
              "    }\n",
              "    (() => {\n",
              "      let quickchartButtonEl =\n",
              "        document.querySelector('#df-29fbfad3-a342-4454-aa8a-a127fc3a5891 button');\n",
              "      quickchartButtonEl.style.display =\n",
              "        google.colab.kernel.accessAllowed ? 'block' : 'none';\n",
              "    })();\n",
              "  </script>\n",
              "</div>\n",
              "\n",
              "    </div>\n",
              "  </div>\n"
            ],
            "application/vnd.google.colaboratory.intrinsic+json": {
              "type": "dataframe",
              "summary": "{\n  \"name\": \"scrape_topics()\",\n  \"rows\": 30,\n  \"fields\": [\n    {\n      \"column\": \"title\",\n      \"properties\": {\n        \"dtype\": \"string\",\n        \"num_unique_values\": 30,\n        \"samples\": [\n          \"C++\",\n          \"Bitcoin\",\n          \"Code quality\"\n        ],\n        \"semantic_type\": \"\",\n        \"description\": \"\"\n      }\n    },\n    {\n      \"column\": \"description\",\n      \"properties\": {\n        \"dtype\": \"string\",\n        \"num_unique_values\": 30,\n        \"samples\": [\n          \"C++ is a general purpose and object-oriented programming language.\",\n          \"Bitcoin is a cryptocurrency developed by Satoshi Nakamoto.\",\n          \"Automate your code review with style, quality, security, and test\\u2011coverage checks when you need them.\"\n        ],\n        \"semantic_type\": \"\",\n        \"description\": \"\"\n      }\n    },\n    {\n      \"column\": \"url\",\n      \"properties\": {\n        \"dtype\": \"string\",\n        \"num_unique_values\": 30,\n        \"samples\": [\n          \"https://github.com/topics/cpp\",\n          \"https://github.com/topics/bitcoin\",\n          \"https://github.com/topics/code-quality\"\n        ],\n        \"semantic_type\": \"\",\n        \"description\": \"\"\n      }\n    }\n  ]\n}"
            }
          },
          "metadata": {},
          "execution_count": 158
        }
      ]
    },
    {
      "cell_type": "code",
      "source": [
        "def scrape_topics_repos():\n",
        "  print('Scrapping list of topics')\n",
        "  topic_df = scrape_topics()\n",
        "  for index, row in topic_df.iterrows():\n",
        "    print('Scrapping top repositories for \"{}\"'.format(row['title']))\n",
        "    scrape_topic(row['url'],row['title'])"
      ],
      "metadata": {
        "id": "v-mqrof6ByCg"
      },
      "execution_count": null,
      "outputs": []
    },
    {
      "cell_type": "code",
      "source": [
        "scrape_topics_repos()"
      ],
      "metadata": {
        "colab": {
          "base_uri": "https://localhost:8080/"
        },
        "id": "OcEHxYDxH38L",
        "outputId": "2456e5d4-d454-4691-deb6-8d31ebb95b46"
      },
      "execution_count": null,
      "outputs": [
        {
          "output_type": "stream",
          "name": "stdout",
          "text": [
            "Scrapping list of topics\n",
            "Scrapping top repositories for \"3D\"\n",
            "Scrapping top repositories for \"Ajax\"\n",
            "Scrapping top repositories for \"Algorithm\"\n",
            "Scrapping top repositories for \"Amp\"\n",
            "Scrapping top repositories for \"Android\"\n",
            "Scrapping top repositories for \"Angular\"\n",
            "Scrapping top repositories for \"Ansible\"\n",
            "Scrapping top repositories for \"API\"\n",
            "Scrapping top repositories for \"Arduino\"\n",
            "Scrapping top repositories for \"ASP.NET\"\n",
            "Scrapping top repositories for \"Awesome Lists\"\n",
            "Scrapping top repositories for \"Amazon Web Services\"\n",
            "Scrapping top repositories for \"Azure\"\n",
            "Scrapping top repositories for \"Babel\"\n",
            "Scrapping top repositories for \"Bash\"\n",
            "Scrapping top repositories for \"Bitcoin\"\n",
            "Scrapping top repositories for \"Bootstrap\"\n",
            "Scrapping top repositories for \"Bot\"\n",
            "Scrapping top repositories for \"C\"\n",
            "Scrapping top repositories for \"Chrome\"\n",
            "Scrapping top repositories for \"Chrome extension\"\n",
            "Scrapping top repositories for \"Command-line interface\"\n",
            "Scrapping top repositories for \"Clojure\"\n",
            "Scrapping top repositories for \"Code quality\"\n",
            "Scrapping top repositories for \"Code review\"\n",
            "Scrapping top repositories for \"Compiler\"\n",
            "Scrapping top repositories for \"Continuous integration\"\n",
            "Scrapping top repositories for \"C++\"\n",
            "Scrapping top repositories for \"Cryptocurrency\"\n",
            "Scrapping top repositories for \"Crystal\"\n"
          ]
        }
      ]
    },
    {
      "cell_type": "code",
      "source": [
        "import jovian"
      ],
      "metadata": {
        "id": "iZAEF0OsIEzT"
      },
      "execution_count": null,
      "outputs": []
    },
    {
      "cell_type": "code",
      "source": [
        "jovian.commit()"
      ],
      "metadata": {
        "colab": {
          "base_uri": "https://localhost:8080/"
        },
        "id": "BNmPL799lSav",
        "outputId": "63887698-c68b-4ebb-a778-07f0fdb8d1a2"
      },
      "execution_count": null,
      "outputs": [
        {
          "output_type": "stream",
          "name": "stdout",
          "text": [
            "[jovian] Detected Colab notebook...\u001b[0m\n",
            "[jovian] jovian.commit() is no longer required on Google Colab. If you ran this notebook from Jovian, \n",
            "then just save this file in Colab using Ctrl+S/Cmd+S and it will be updated on Jovian. \n",
            "Also, you can also delete this cell, it's no longer necessary.\u001b[0m\n"
          ]
        }
      ]
    }
  ]
}